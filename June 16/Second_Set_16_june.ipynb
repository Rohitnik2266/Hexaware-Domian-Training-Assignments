{ 
 "cells": [
  {
   "cell_type": "code",
   "execution_count": 0,
   "metadata": {
    "application/vnd.databricks.v1+cell": {
     "cellMetadata": {
      "byteLimit": 2048000,
      "rowLimit": 10000
     },
     "inputWidgets": {},
     "nuid": "d5947291-91c1-4f44-a9f3-e7529929f8b3",
     "showTitle": false,
     "tableResultSettingsMap": {},
     "title": ""
    }
   },
   "outputs": [
    {
     "output_type": "execute_result",
     "data": {
      "text/html": [
       "\n",
       "            <div>\n",
       "                <p><b>SparkSession - hive</b></p>\n",
       "                \n",
       "        <div>\n",
       "            <p><b>SparkContext</b></p>\n",
       "\n",
       "            <p><a href=\"/?o=2342854597430550#setting/sparkui/0612-123310-2108yh11/driver-7075076093697669756\">Spark UI</a></p>\n",
       "\n",
       "            <dl>\n",
       "              <dt>Version</dt>\n",
       "                <dd><code>v3.5.0</code></dd>\n",
       "              <dt>Master</dt>\n",
       "                <dd><code>local[*, 4]</code></dd>\n",
       "              <dt>AppName</dt>\n",
       "                <dd><code>Databricks Shell</code></dd>\n",
       "            </dl>\n",
       "        </div>\n",
       "        \n",
       "            </div>\n",
       "        "
      ],
      "text/plain": [
       "<pyspark.sql.session.SparkSession at 0x77dd0e5714d0>"
      ]
     },
     "execution_count": 1,
     "metadata": {},
     "output_type": "execute_result"
    }
   ],
   "source": [
    "from pyspark.sql import SparkSession\n",
    "from pyspark.sql.functions import *\n",
    "spark = SparkSession.builder.appName(\"Subscription-Based SaaS Platform\").getOrCreate()\n",
    "spark"
   ]
  },
  {
   "cell_type": "code",
   "execution_count": 0,
   "metadata": {
    "application/vnd.databricks.v1+cell": {
     "cellMetadata": {
      "byteLimit": 2048000,
      "rowLimit": 10000
     },
     "inputWidgets": {},
     "nuid": "3ab5b895-1a7c-4d33-940a-9cb156b2561b",
     "showTitle": false,
     "tableResultSettingsMap": {},
     "title": ""
    }
   },
   "outputs": [
    {
     "output_type": "stream",
     "name": "stdout",
     "output_type": "stream",
     "text": [
      "+------+-------------------+---------+-----------+\n|UserID|          EventTime|EventType|FeatureUsed|\n+------+-------------------+---------+-----------+\n|  U001|2024-04-07 10:22:00|    login|  Dashboard|\n|  U002|2024-04-08 11:10:00|   upload|    Reports|\n|  U003|2024-04-09 09:45:00| download|  Analytics|\n|  U001|2024-04-10 16:00:00|   logout|  Dashboard|\n|  U004|2024-04-11 12:00:00|    login|  Dashboard|\n+------+-------------------+---------+-----------+\n\n+--------------+------+--------+----------+----------+--------+--------+---------+\n|SubscriptionID|UserID|PlanType| StartDate|   EndDate|PriceUSD|IsActive|AutoRenew|\n+--------------+------+--------+----------+----------+--------+--------+---------+\n|        SUB001|  U001|   Basic|2024-01-01|2024-04-01|    30.0|    true|     true|\n|        SUB002|  U002|     Pro|2024-02-15|2024-05-15|    90.0|    true|    false|\n|        SUB003|  U003|     Pro|2024-03-10|2024-06-10|    90.0|   false|    false|\n|        SUB004|  U001| Premium|2024-04-05|2024-07-05|   120.0|    true|     true|\n|        SUB005|  U004|   Basic|2024-01-20|2024-04-20|    30.0|   false|    false|\n+--------------+------+--------+----------+----------+--------+--------+---------+\n\n"
     ]
    }
   ],
   "source": [
    "df_act = spark.read.csv(\"dbfs:/FileStore/shared_uploads/azuser3559_mml.local@techademy.com/user_activity.csv\", header=True, inferSchema=True)\n",
    "df_act.show()\n",
    "df_sub = spark.read.csv(\"dbfs:/FileStore/shared_uploads/azuser3559_mml.local@techademy.com/subscriptions.csv\", header=True, inferSchema=True)\n",
    "df_sub.show()"
   ]
  },
  {
   "cell_type": "code",
   "execution_count": 0,
   "metadata": {
    "application/vnd.databricks.v1+cell": {
     "cellMetadata": {
      "byteLimit": 2048000,
      "rowLimit": 10000
     },
     "inputWidgets": {},
     "nuid": "ae840786-4fa6-4c22-9f5b-76bd96a76eeb",
     "showTitle": false,
     "tableResultSettingsMap": {},
     "title": ""
    }
   },
   "outputs": [
    {
     "output_type": "stream",
     "name": "stdout",
     "output_type": "stream",
     "text": [
      "+------+-------------------+---------+-----------+--------------+--------+----------+----------+--------+--------+---------+\n|UserID|          EventTime|EventType|FeatureUsed|SubscriptionID|PlanType| StartDate|   EndDate|PriceUSD|IsActive|AutoRenew|\n+------+-------------------+---------+-----------+--------------+--------+----------+----------+--------+--------+---------+\n|  U001|2024-04-10 16:00:00|   logout|  Dashboard|        SUB001|   Basic|2024-01-01|2024-04-01|    30.0|    true|     true|\n|  U002|2024-04-08 11:10:00|   upload|    Reports|        SUB002|     Pro|2024-02-15|2024-05-15|    90.0|    true|    false|\n|  U003|2024-04-09 09:45:00| download|  Analytics|        SUB003|     Pro|2024-03-10|2024-06-10|    90.0|   false|    false|\n|  U001|2024-04-10 16:00:00|   logout|  Dashboard|        SUB004| Premium|2024-04-05|2024-07-05|   120.0|    true|     true|\n|  U004|2024-04-11 12:00:00|    login|  Dashboard|        SUB005|   Basic|2024-01-20|2024-04-20|    30.0|   false|    false|\n|  U001|2024-04-07 10:22:00|    login|  Dashboard|        SUB001|   Basic|2024-01-01|2024-04-01|    30.0|    true|     true|\n|  U001|2024-04-07 10:22:00|    login|  Dashboard|        SUB004| Premium|2024-04-05|2024-07-05|   120.0|    true|     true|\n+------+-------------------+---------+-----------+--------------+--------+----------+----------+--------+--------+---------+\n\n"
     ]
    }
   ],
   "source": [
    "df_combine = df_act.join(df_sub, df_act.UserID == df_sub.UserID).drop(df_sub.UserID)\n",
    "df_combine.show()\n"
   ]
  },
  {
   "cell_type": "code",
   "execution_count": 0,
   "metadata": {
    "application/vnd.databricks.v1+cell": {
     "cellMetadata": {
      "byteLimit": 2048000,
      "rowLimit": 10000
     },
     "inputWidgets": {},
     "nuid": "aaa53cad-c258-4c4b-82c4-9149e0547e54",
     "showTitle": false,
     "tableResultSettingsMap": {},
     "title": ""
    }
   },
   "outputs": [
    {
     "output_type": "stream",
     "name": "stdout",
     "output_type": "stream",
     "text": [
      "+------+-------------------+---------+-----------+--------------+--------+----------+----------+--------+--------+---------+-----------+\n|UserID|          EventTime|EventType|FeatureUsed|SubscriptionID|PlanType| StartDate|   EndDate|PriceUSD|IsActive|AutoRenew|Active Days|\n+------+-------------------+---------+-----------+--------------+--------+----------+----------+--------+--------+---------+-----------+\n|  U001|2024-04-10 16:00:00|   logout|  Dashboard|        SUB001|   Basic|2024-01-01|2024-04-01|    30.0|    true|     true|         91|\n|  U002|2024-04-08 11:10:00|   upload|    Reports|        SUB002|     Pro|2024-02-15|2024-05-15|    90.0|    true|    false|         90|\n|  U003|2024-04-09 09:45:00| download|  Analytics|        SUB003|     Pro|2024-03-10|2024-06-10|    90.0|   false|    false|         92|\n|  U001|2024-04-10 16:00:00|   logout|  Dashboard|        SUB004| Premium|2024-04-05|2024-07-05|   120.0|    true|     true|         91|\n|  U004|2024-04-11 12:00:00|    login|  Dashboard|        SUB005|   Basic|2024-01-20|2024-04-20|    30.0|   false|    false|         91|\n|  U001|2024-04-07 10:22:00|    login|  Dashboard|        SUB001|   Basic|2024-01-01|2024-04-01|    30.0|    true|     true|         91|\n|  U001|2024-04-07 10:22:00|    login|  Dashboard|        SUB004| Premium|2024-04-05|2024-07-05|   120.0|    true|     true|         91|\n+------+-------------------+---------+-----------+--------------+--------+----------+----------+--------+--------+---------+-----------+\n\n"
     ]
    }
   ],
   "source": [
    "df_active = df_combine.withColumn(\"Active Days\", datediff(\"EndDate\",\"StartDate\"))\n",
    "df_active.show()"
   ]
  },
  {
   "cell_type": "code",
   "execution_count": 0,
   "metadata": {
    "application/vnd.databricks.v1+cell": {
     "cellMetadata": {
      "byteLimit": 2048000,
      "rowLimit": 10000
     },
     "inputWidgets": {},
     "nuid": "26acc205-e712-47cc-9a56-3cf5a605753a",
     "showTitle": false,
     "tableResultSettingsMap": {},
     "title": ""
    }
   },
   "outputs": [
    {
     "output_type": "stream",
     "name": "stdout",
     "output_type": "stream",
     "text": [
      "+------+---------------+\n|UserID|events_per_user|\n+------+---------------+\n|  U004|              1|\n|  U002|              1|\n|  U003|              1|\n|  U001|              4|\n+------+---------------+\n\n"
     ]
    }
   ],
   "source": [
    "df_eve = df_active.groupBy(\"UserID\").agg(count(\"EventType\").alias(\"events_per_user\"))\n",
    "df_eve.show()"
   ]
  },
  {
   "cell_type": "code",
   "execution_count": 0,
   "metadata": {
    "application/vnd.databricks.v1+cell": {
     "cellMetadata": {
      "byteLimit": 2048000,
      "rowLimit": 10000
     },
     "inputWidgets": {},
     "nuid": "e004261e-6952-4916-8027-f4cd93aca9cc",
     "showTitle": false,
     "tableResultSettingsMap": {},
     "title": ""
    }
   },
   "outputs": [
    {
     "output_type": "stream",
     "name": "stdout",
     "output_type": "stream",
     "text": [
      "+------+-------------------+---------+-----------+--------------+--------+----------+----------+--------+--------+---------+-----------+------+---------------+------------------+\n|UserID|          EventTime|EventType|FeatureUsed|SubscriptionID|PlanType| StartDate|   EndDate|PriceUSD|IsActive|AutoRenew|Active Days|UserID|events_per_user|  engagement_score|\n+------+-------------------+---------+-----------+--------------+--------+----------+----------+--------+--------+---------+-----------+------+---------------+------------------+\n|  U001|2024-04-10 16:00:00|   logout|  Dashboard|        SUB001|   Basic|2024-01-01|2024-04-01|    30.0|    true|     true|         91|  U001|              4|1.3186813186813189|\n|  U002|2024-04-08 11:10:00|   upload|    Reports|        SUB002|     Pro|2024-02-15|2024-05-15|    90.0|    true|    false|         90|  U002|              1|               1.0|\n|  U003|2024-04-09 09:45:00| download|  Analytics|        SUB003|     Pro|2024-03-10|2024-06-10|    90.0|   false|    false|         92|  U003|              1|0.9782608695652174|\n|  U001|2024-04-10 16:00:00|   logout|  Dashboard|        SUB004| Premium|2024-04-05|2024-07-05|   120.0|    true|     true|         91|  U001|              4|5.2747252747252755|\n|  U004|2024-04-11 12:00:00|    login|  Dashboard|        SUB005|   Basic|2024-01-20|2024-04-20|    30.0|   false|    false|         91|  U004|              1|0.3296703296703297|\n|  U001|2024-04-07 10:22:00|    login|  Dashboard|        SUB001|   Basic|2024-01-01|2024-04-01|    30.0|    true|     true|         91|  U001|              4|1.3186813186813189|\n|  U001|2024-04-07 10:22:00|    login|  Dashboard|        SUB004| Premium|2024-04-05|2024-07-05|   120.0|    true|     true|         91|  U001|              4|5.2747252747252755|\n+------+-------------------+---------+-----------+--------------+--------+----------+----------+--------+--------+---------+-----------+------+---------------+------------------+\n\n"
     ]
    }
   ],
   "source": [
    "df_score = df_active.join(df_eve, df_active.UserID == df_eve.UserID).withColumn(\"engagement_score\",(col(\"events_per_user\")/col(\"Active Days\"))*col(\"PriceUSD\"))\n",
    "df_score.show()"
   ]
  },
  {
   "cell_type": "code",
   "execution_count": 0,
   "metadata": {
    "application/vnd.databricks.v1+cell": {
     "cellMetadata": {
      "byteLimit": 2048000,
      "rowLimit": 10000
     },
     "inputWidgets": {},
     "nuid": "8d048393-fba6-41bd-a1bd-5510809d1060",
     "showTitle": false,
     "tableResultSettingsMap": {},
     "title": ""
    }
   },
   "outputs": [],
   "source": [
    "df_sub.createOrReplaceTempView(\"subscriptions\")\n",
    "df_act.createOrReplaceTempView(\"user_activity\")\n"
   ]
  },
  {
   "cell_type": "code",
   "execution_count": 0,
   "metadata": {
    "application/vnd.databricks.v1+cell": {
     "cellMetadata": {
      "byteLimit": 2048000,
      "rowLimit": 10000
     },
     "inputWidgets": {},
     "nuid": "5fb74d1d-e96c-4018-84f7-90c78ec92cd9",
     "showTitle": false,
     "tableResultSettingsMap": {},
     "title": ""
    }
   },
   "outputs": [
    {
     "output_type": "stream",
     "name": "stdout",
     "output_type": "stream",
     "text": [
      "+------+\n|UserID|\n+------+\n|  U004|\n|  U003|\n+------+\n\n"
     ]
    }
   ],
   "source": [
    "spark.sql(\"\"\"\n",
    "CREATE OR REPLACE TEMP VIEW anomaly_inactive_active AS\n",
    "SELECT DISTINCT s.UserID\n",
    "FROM subscriptions s\n",
    "JOIN user_activity u ON s.UserID = u.UserID\n",
    "WHERE s.IsActive = false\n",
    "\"\"\")\n",
    "\n",
    "spark.sql(\"SELECT * FROM anomaly_inactive_active\").show()\n"
   ]
  },
  {
   "cell_type": "code",
   "execution_count": 0,
   "metadata": {
    "application/vnd.databricks.v1+cell": {
     "cellMetadata": {
      "byteLimit": 2048000,
      "rowLimit": 10000
     },
     "inputWidgets": {},
     "nuid": "d006a35f-9572-46d2-ab1d-d5047778bc31",
     "showTitle": false,
     "tableResultSettingsMap": {},
     "title": ""
    }
   },
   "outputs": [
    {
     "output_type": "stream",
     "name": "stdout",
     "output_type": "stream",
     "text": [
      "+------+\n|UserID|\n+------+\n|  U001|\n+------+\n\n"
     ]
    }
   ],
   "source": [
    "spark.sql(\"\"\"\n",
    "CREATE OR REPLACE TEMP VIEW anomaly_autorenew_noactivity AS\n",
    "SELECT s.UserID\n",
    "FROM subscriptions s\n",
    "LEFT JOIN user_activity u ON s.UserID = u.UserID\n",
    "WHERE s.AutoRenew = true\n",
    "GROUP BY s.UserID\n",
    "HAVING MAX(u.EventTime) < current_date() - INTERVAL 30 DAYS\n",
    "\"\"\")\n",
    "\n",
    "spark.sql(\"SELECT * FROM anomaly_autorenew_noactivity\").show()\n"
   ]
  },
  {
   "cell_type": "code",
   "execution_count": 0,
   "metadata": {
    "application/vnd.databricks.v1+cell": {
     "cellMetadata": {
      "byteLimit": 2048000,
      "rowLimit": 10000
     },
     "inputWidgets": {},
     "nuid": "eaaf55cf-0eb0-4f5a-8202-1aa0ea94a0d2",
     "showTitle": false,
     "tableResultSettingsMap": {},
     "title": ""
    }
   },
   "outputs": [
    {
     "output_type": "stream",
     "name": "stdout",
     "output_type": "stream",
     "text": [
      "+--------------+------+--------+----------+----------+--------+--------+---------+\n|SubscriptionID|UserID|PlanType| StartDate|   EndDate|PriceUSD|IsActive|AutoRenew|\n+--------------+------+--------+----------+----------+--------+--------+---------+\n|        SUB001|  U001|   Basic|2024-01-01|2024-04-01|    30.0|    true|     true|\n|        SUB002|  U002|     Pro|2024-02-15|2024-05-15|    90.0|    true|    false|\n|        SUB004|  U001| Premium|2024-04-05|2024-07-05|   120.0|    true|     true|\n|        SUB005|  U004|   Basic|2024-01-20|2024-04-20|    30.0|   false|    false|\n|        SUB003|  U003|     Pro|2024-03-10|2024-06-10|    95.0|   false|    false|\n+--------------+------+--------+----------+----------+--------+--------+---------+\n\n"
     ]
    }
   ],
   "source": [
    "df_sub.write.format(\"delta\").mode(\"overwrite\").saveAsTable(\"subscriptions_delta\")\n",
    "\n",
    "spark.sql(\"\"\"\n",
    "MERGE INTO subscriptions_delta t\n",
    "USING (\n",
    "  SELECT * FROM subscriptions_delta\n",
    "  WHERE PlanType = 'Pro' AND month(StartDate) = 3\n",
    ") updates\n",
    "ON t.SubscriptionID = updates.SubscriptionID\n",
    "WHEN MATCHED THEN\n",
    "  UPDATE SET t.PriceUSD = t.PriceUSD + 5\n",
    "\"\"\")\n",
    "\n",
    "spark.sql(\"SELECT * FROM subscriptions_delta\").show()\n"
   ]
  },
  {
   "cell_type": "code",
   "execution_count": 0,
   "metadata": {
    "application/vnd.databricks.v1+cell": {
     "cellMetadata": {
      "byteLimit": 2048000,
      "implicitDf": true,
      "rowLimit": 10000
     },
     "inputWidgets": {},
     "nuid": "ec9bf7c8-663f-41fb-a296-2399168a3274",
     "showTitle": false,
     "tableResultSettingsMap": {},
     "title": ""
    }
   },
   "outputs": [
    {
     "output_type": "stream",
     "name": "stdout",
     "output_type": "stream",
     "text": [
      "+-------+-------------------+----------------+--------------------+--------------------+--------------------+----+------------------+--------------------+-----------+-----------------+-------------+--------------------+------------+--------------------+\n|version|          timestamp|          userId|            userName|           operation| operationParameters| job|          notebook|           clusterId|readVersion|   isolationLevel|isBlindAppend|    operationMetrics|userMetadata|          engineInfo|\n+-------+-------------------+----------------+--------------------+--------------------+--------------------+----+------------------+--------------------+-----------+-----------------+-------------+--------------------+------------+--------------------+\n|      2|2025-06-16 11:31:27|6267232536945943|azuser3559_mml.lo...|            OPTIMIZE|{predicate -> [],...|NULL|{2601386153271675}|0612-123310-2108yh11|          1|SnapshotIsolation|        false|{numRemovedFiles ...|        NULL|Databricks-Runtim...|\n|      1|2025-06-16 11:31:23|6267232536945943|azuser3559_mml.lo...|               MERGE|{predicate -> [\"(...|NULL|{2601386153271675}|0612-123310-2108yh11|          0|WriteSerializable|        false|{numTargetRowsCop...|        NULL|Databricks-Runtim...|\n|      0|2025-06-16 11:31:11|6267232536945943|azuser3559_mml.lo...|CREATE OR REPLACE...|{partitionBy -> [...|NULL|{2601386153271675}|0612-123310-2108yh11|       NULL|WriteSerializable|        false|{numFiles -> 1, n...|        NULL|Databricks-Runtim...|\n+-------+-------------------+----------------+--------------------+--------------------+--------------------+----+------------------+--------------------+-----------+-----------------+-------------+--------------------+------------+--------------------+\n\n"
     ]
    }
   ],
   "source": [
    "spark.sql('''\n",
    "DESCRIBE HISTORY subscriptions_delta\n",
    "''').show()"
   ]
  },
  {
   "cell_type": "code",
   "execution_count": 0,
   "metadata": {
    "application/vnd.databricks.v1+cell": {
     "cellMetadata": {
      "byteLimit": 2048000,
      "rowLimit": 10000
     },
     "inputWidgets": {},
     "nuid": "4182d036-c5aa-4447-813e-c8bc58327489",
     "showTitle": false,
     "tableResultSettingsMap": {},
     "title": ""
    }
   },
   "outputs": [
    {
     "output_type": "stream",
     "name": "stdout",
     "output_type": "stream",
     "text": [
      "+--------------+------+--------+----------+----------+--------+--------+---------+\n|SubscriptionID|UserID|PlanType| StartDate|   EndDate|PriceUSD|IsActive|AutoRenew|\n+--------------+------+--------+----------+----------+--------+--------+---------+\n|        SUB001|  U001|   Basic|2024-01-01|2024-04-01|    30.0|    true|     true|\n|        SUB002|  U002|     Pro|2024-02-15|2024-05-15|    90.0|    true|    false|\n|        SUB003|  U003|     Pro|2024-03-10|2024-06-10|    90.0|   false|    false|\n|        SUB004|  U001| Premium|2024-04-05|2024-07-05|   120.0|    true|     true|\n|        SUB005|  U004|   Basic|2024-01-20|2024-04-20|    30.0|   false|    false|\n+--------------+------+--------+----------+----------+--------+--------+---------+\n\n"
     ]
    }
   ],
   "source": [
    "spark.sql('''\n",
    "SELECT * FROM subscriptions_delta VERSION AS OF 0\n",
    "''').show()"
   ]
  },
  {
   "cell_type": "code",
   "execution_count": 0,
   "metadata": {
    "application/vnd.databricks.v1+cell": {
     "cellMetadata": {
      "byteLimit": 2048000,
      "rowLimit": 10000
     },
     "inputWidgets": {},
     "nuid": "2868cba7-f289-4328-a749-1e20492ca3a9",
     "showTitle": false,
     "tableResultSettingsMap": {},
     "title": ""
    }
   },
   "outputs": [
    {
     "output_type": "display_data",
     "data": {
      "text/html": [
       "<style scoped>\n",
       "  .table-result-container {\n",
       "    max-height: 300px;\n",
       "    overflow: auto;\n",
       "  }\n",
       "  table, th, td {\n",
       "    border: 1px solid black;\n",
       "    border-collapse: collapse;\n",
       "  }\n",
       "  th, td {\n",
       "    padding: 5px;\n",
       "  }\n",
       "  th {\n",
       "    text-align: left;\n",
       "  }\n",
       "</style><div class='table-result-container'><table class='table-result'><thead style='background-color: white'><tr><th>SubscriptionID</th><th>UserID</th><th>PlanType</th><th>StartDate</th><th>EndDate</th><th>PriceUSD</th><th>IsActive</th><th>AutoRenew</th><th>PrevPlan</th></tr></thead><tbody></tbody></table></div>"
      ]
     },
     "metadata": {
      "application/vnd.databricks.v1+output": {
       "addedWidgets": {},
       "aggData": [],
       "aggError": "",
       "aggOverflow": false,
       "aggSchema": [],
       "aggSeriesLimitReached": false,
       "aggType": "",
       "arguments": {},
       "columnCustomDisplayInfos": {},
       "data": [],
       "datasetInfos": [],
       "dbfsResultPath": null,
       "isJsonSchema": true,
       "metadata": {},
       "overflow": false,
       "plotOptions": {
        "customPlotOptions": {},
        "displayType": "table",
        "pivotAggregation": null,
        "pivotColumns": null,
        "xColumns": null,
        "yColumns": null
       },
       "removedWidgets": [],
       "schema": [
        {
         "metadata": "{}",
         "name": "SubscriptionID",
         "type": "\"string\""
        },
        {
         "metadata": "{}",
         "name": "UserID",
         "type": "\"string\""
        },
        {
         "metadata": "{}",
         "name": "PlanType",
         "type": "\"string\""
        },
        {
         "metadata": "{\"__detected_date_formats\":\"yyyy-M-d\"}",
         "name": "StartDate",
         "type": "\"date\""
        },
        {
         "metadata": "{\"__detected_date_formats\":\"yyyy-M-d\"}",
         "name": "EndDate",
         "type": "\"date\""
        },
        {
         "metadata": "{}",
         "name": "PriceUSD",
         "type": "\"double\""
        },
        {
         "metadata": "{}",
         "name": "IsActive",
         "type": "\"boolean\""
        },
        {
         "metadata": "{}",
         "name": "AutoRenew",
         "type": "\"boolean\""
        },
        {
         "metadata": "{}",
         "name": "PrevPlan",
         "type": "\"string\""
        }
       ],
       "type": "table"
      }
     },
     "output_type": "display_data"
    }
   ],
   "source": [
    "from pyspark.sql.window import Window\n",
    "\n",
    "m_window = Window.partitionBy(\"UserID\").orderBy(\"StartDate\")\n",
    "\n",
    "df_mig = df_sub.withColumn(\"PrevPlan\", lag(\"PlanType\").over(m_window))\n",
    "\n",
    "df_mig.filter((col(\"PrevPlan\") == \"Basic\") & (col(\"PlanType\") == \"Pro\")).display()\n"
   ]
  },
  {
   "cell_type": "code",
   "execution_count": 0,
   "metadata": {
    "application/vnd.databricks.v1+cell": {
     "cellMetadata": {
      "byteLimit": 2048000,
      "rowLimit": 10000
     },
     "inputWidgets": {},
     "nuid": "88110541-39d6-4748-8349-e950863606ef",
     "showTitle": false,
     "tableResultSettingsMap": {},
     "title": ""
    }
   },
   "outputs": [],
   "source": [
    "df_features = df_act.select(\"UserID\", \"FeatureUsed\").distinct().groupBy(\"UserID\").count().withColumnRenamed(\"count\", \"unique_features\")\n"
   ]
  },
  {
   "cell_type": "code",
   "execution_count": 0,
   "metadata": {
    "application/vnd.databricks.v1+cell": {
     "cellMetadata": {
      "byteLimit": 2048000,
      "rowLimit": 10000
     },
     "inputWidgets": {},
     "nuid": "776593bf-7f04-40bd-9031-0016c4ef19c6",
     "showTitle": false,
     "tableResultSettingsMap": {},
     "title": ""
    }
   },
   "outputs": [],
   "source": [
    "\n",
    "df_log = df_act.filter(col(\"EventType\") == \"login\").groupBy(\"UserID\").count().withColumnRenamed(\"count\", \"login_count\")\n"
   ]
  },
  {
   "cell_type": "code",
   "execution_count": 0,
   "metadata": {
    "application/vnd.databricks.v1+cell": {
     "cellMetadata": {
      "byteLimit": 2048000,
      "rowLimit": 10000
     },
     "inputWidgets": {},
     "nuid": "cb972769-55e6-49be-a390-260bfc7a9ea0",
     "showTitle": false,
     "tableResultSettingsMap": {},
     "title": ""
    }
   },
   "outputs": [],
   "source": [
    "df_power = df_features.join(df_log, \"UserID\", \"inner\").filter((col(\"unique_features\") >= 2) & (col(\"login_count\") >= 3))\n",
    "\n",
    "df_power.write.format(\"delta\").mode(\"overwrite\").saveAsTable(\"power_users\")\n"
   ]
  },
  {
   "cell_type": "code",
   "execution_count": 0,
   "metadata": {
    "application/vnd.databricks.v1+cell": {
     "cellMetadata": {
      "byteLimit": 2048000,
      "rowLimit": 10000
     },
     "inputWidgets": {},
     "nuid": "1ad84168-0560-4242-a3fd-3f6b27e819f2",
     "showTitle": false,
     "tableResultSettingsMap": {},
     "title": ""
    }
   },
   "outputs": [
    {
     "output_type": "display_data",
     "data": {
      "text/html": [
       "<style scoped>\n",
       "  .table-result-container {\n",
       "    max-height: 300px;\n",
       "    overflow: auto;\n",
       "  }\n",
       "  table, th, td {\n",
       "    border: 1px solid black;\n",
       "    border-collapse: collapse;\n",
       "  }\n",
       "  th, td {\n",
       "    padding: 5px;\n",
       "  }\n",
       "  th {\n",
       "    text-align: left;\n",
       "  }\n",
       "</style><div class='table-result-container'><table class='table-result'><thead style='background-color: white'><tr><th>UserID</th><th>prev_time</th><th>EventTime</th><th>duration</th></tr></thead><tbody><tr><td>U001</td><td>2024-04-07T10:22:00Z</td><td>2024-04-10T16:00:00Z</td><td>4658.0</td></tr></tbody></table></div>"
      ]
     },
     "metadata": {
      "application/vnd.databricks.v1+output": {
       "addedWidgets": {},
       "aggData": [],
       "aggError": "",
       "aggOverflow": false,
       "aggSchema": [],
       "aggSeriesLimitReached": false,
       "aggType": "",
       "arguments": {},
       "columnCustomDisplayInfos": {},
       "data": [
        [
         "U001",
         "2024-04-07T10:22:00Z",
         "2024-04-10T16:00:00Z",
         4658.0
        ]
       ],
       "datasetInfos": [],
       "dbfsResultPath": null,
       "isJsonSchema": true,
       "metadata": {},
       "overflow": false,
       "plotOptions": {
        "customPlotOptions": {},
        "displayType": "table",
        "pivotAggregation": null,
        "pivotColumns": null,
        "xColumns": null,
        "yColumns": null
       },
       "removedWidgets": [],
       "schema": [
        {
         "metadata": "{}",
         "name": "UserID",
         "type": "\"string\""
        },
        {
         "metadata": "{}",
         "name": "prev_time",
         "type": "\"timestamp\""
        },
        {
         "metadata": "{}",
         "name": "EventTime",
         "type": "\"timestamp\""
        },
        {
         "metadata": "{}",
         "name": "duration",
         "type": "\"double\""
        }
       ],
       "type": "table"
      }
     },
     "output_type": "display_data"
    }
   ],
   "source": [
    "\n",
    "session_window = Window.partitionBy(\"UserID\").orderBy(\"EventTime\")\n",
    "\n",
    "df_session = df_act.withColumn(\"prev_event\", lag(\"EventType\").over(session_window)).withColumn(\"prev_time\", lag(\"EventTime\").over(session_window)).withColumn(\"duration\", (unix_timestamp(\"EventTime\") - unix_timestamp(\"prev_time\")) / 60).filter((col(\"prev_event\") == \"login\") & (col(\"EventType\") == \"logout\"))\n",
    "\n",
    "df_session.select(\"UserID\", \"prev_time\", \"EventTime\", \"duration\").display()\n"
   ]
  }
 ],
 "metadata": {
  "application/vnd.databricks.v1+notebook": {
   "computePreferences": null,
   "dashboards": [],
   "environmentMetadata": {
    "base_environment": "",
    "environment_version": "2"
   },
   "inputWidgetPreferences": null,
   "language": "python",
   "notebookMetadata": {
    "mostRecentlyExecutedCommandWithImplicitDF": {
     "commandId": -1,
     "dataframes": [
      "_sqldf"
     ]
    },
    "pythonIndentUnit": 4
   },
   "notebookName": "Second_Set_16_june",
   "widgets": {}
  },
  "language_info": {
   "name": "python"
  }
 },
 "nbformat": 4,
 "nbformat_minor": 0
}
