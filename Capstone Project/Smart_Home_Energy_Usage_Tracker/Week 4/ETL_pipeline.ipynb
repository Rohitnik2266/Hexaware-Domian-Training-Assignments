{
 "cells": [
  {
   "cell_type": "code",
   "execution_count": 0,
   "metadata": {
    "application/vnd.databricks.v1+cell": {
     "cellMetadata": {
      "byteLimit": 2048000,
      "rowLimit": 10000
     },
     "inputWidgets": {},
     "nuid": "ac393530-6a20-45ef-8ba0-bf157131301c",
     "showTitle": false,
     "tableResultSettingsMap": {},
     "title": ""
    }
   },
   "outputs": [
    {
     "output_type": "execute_result",
     "data": {
      "text/html": [
       "\n",
       "            <div>\n",
       "                <p><b>SparkSession - hive</b></p>\n",
       "                \n",
       "        <div>\n",
       "            <p><b>SparkContext</b></p>\n",
       "\n",
       "            <p><a href=\"/?o=2342854597430550#setting/sparkui/0612-123310-2108yh11/driver-8357063655526875001\">Spark UI</a></p>\n",
       "\n",
       "            <dl>\n",
       "              <dt>Version</dt>\n",
       "                <dd><code>v3.5.0</code></dd>\n",
       "              <dt>Master</dt>\n",
       "                <dd><code>local[*, 4]</code></dd>\n",
       "              <dt>AppName</dt>\n",
       "                <dd><code>Databricks Shell</code></dd>\n",
       "            </dl>\n",
       "        </div>\n",
       "        \n",
       "            </div>\n",
       "        "
      ],
      "text/plain": [
       "<pyspark.sql.session.SparkSession at 0x7c2ac1ef9610>"
      ]
     },
     "execution_count": 1,
     "metadata": {},
     "output_type": "execute_result"
    }
   ],
   "source": [
    "from pyspark.sql import SparkSession\n",
    "from pyspark.sql.functions import *\n",
    "import pandas as pd\n",
    "\n",
    "spark = SparkSession.builder.appName(\"ETL Pipline\").getOrCreate()\n",
    "spark"
   ]
  },
  {
   "cell_type": "markdown",
   "metadata": {
    "application/vnd.databricks.v1+cell": {
     "cellMetadata": {},
     "inputWidgets": {},
     "nuid": "abef66cc-8ae2-4196-9bcd-f2cabf97689a",
     "showTitle": false,
     "tableResultSettingsMap": {},
     "title": ""
    }
   },
   "source": [
    "EXTRACT"
   ]
  },
  {
   "cell_type": "code",
   "execution_count": 0,
   "metadata": {
    "application/vnd.databricks.v1+cell": {
     "cellMetadata": {
      "byteLimit": 2048000,
      "rowLimit": 10000
     },
     "inputWidgets": {},
     "nuid": "cce36e88-500f-447c-9a94-103396c6ddc2",
     "showTitle": false,
     "tableResultSettingsMap": {},
     "title": ""
    }
   },
   "outputs": [
    {
     "output_type": "display_data",
     "data": {
      "text/html": [
       "<style scoped>\n",
       "  .table-result-container {\n",
       "    max-height: 300px;\n",
       "    overflow: auto;\n",
       "  }\n",
       "  table, th, td {\n",
       "    border: 1px solid black;\n",
       "    border-collapse: collapse;\n",
       "  }\n",
       "  th, td {\n",
       "    padding: 5px;\n",
       "  }\n",
       "  th {\n",
       "    text-align: left;\n",
       "  }\n",
       "</style><div class='table-result-container'><table class='table-result'><thead style='background-color: white'><tr><th>log_id</th><th>device_id</th><th>room_id</th><th>timestamp</th><th>energy_kwh</th><th>hour</th><th>is_peak</th></tr></thead><tbody><tr><td>1</td><td>101</td><td>1</td><td>2025-06-26T00:15:00Z</td><td>0.1</td><td>0</td><td>off_peak</td></tr><tr><td>2</td><td>102</td><td>1</td><td>2025-06-26T01:30:00Z</td><td>0.2</td><td>1</td><td>off_peak</td></tr><tr><td>3</td><td>103</td><td>2</td><td>2025-06-26T02:00:00Z</td><td>0.5</td><td>2</td><td>off_peak</td></tr><tr><td>4</td><td>104</td><td>2</td><td>2025-06-26T03:15:00Z</td><td>0.3</td><td>3</td><td>off_peak</td></tr><tr><td>5</td><td>105</td><td>3</td><td>2025-06-26T04:00:00Z</td><td>1.0</td><td>4</td><td>off_peak</td></tr><tr><td>6</td><td>101</td><td>1</td><td>2025-06-26T05:45:00Z</td><td>0.2</td><td>5</td><td>off_peak</td></tr><tr><td>7</td><td>102</td><td>1</td><td>2025-06-26T06:00:00Z</td><td>0.4</td><td>6</td><td>off_peak</td></tr><tr><td>8</td><td>103</td><td>2</td><td>2025-06-26T07:30:00Z</td><td>0.7</td><td>7</td><td>off_peak</td></tr><tr><td>9</td><td>104</td><td>2</td><td>2025-06-26T08:00:00Z</td><td>0.6</td><td>8</td><td>off_peak</td></tr><tr><td>10</td><td>105</td><td>3</td><td>2025-06-26T09:15:00Z</td><td>1.1</td><td>9</td><td>off_peak</td></tr><tr><td>11</td><td>101</td><td>1</td><td>2025-06-26T10:00:00Z</td><td>0.3</td><td>10</td><td>off_peak</td></tr><tr><td>12</td><td>102</td><td>1</td><td>2025-06-26T11:30:00Z</td><td>0.6</td><td>11</td><td>off_peak</td></tr><tr><td>13</td><td>103</td><td>2</td><td>2025-06-26T12:45:00Z</td><td>0.8</td><td>12</td><td>off_peak</td></tr><tr><td>14</td><td>104</td><td>2</td><td>2025-06-26T13:00:00Z</td><td>0.7</td><td>13</td><td>off_peak</td></tr><tr><td>15</td><td>105</td><td>3</td><td>2025-06-26T14:15:00Z</td><td>1.4</td><td>14</td><td>off_peak</td></tr><tr><td>16</td><td>101</td><td>1</td><td>2025-06-26T15:30:00Z</td><td>0.4</td><td>15</td><td>off_peak</td></tr><tr><td>17</td><td>102</td><td>1</td><td>2025-06-26T16:00:00Z</td><td>0.5</td><td>16</td><td>off_peak</td></tr><tr><td>18</td><td>103</td><td>2</td><td>2025-06-26T17:30:00Z</td><td>0.9</td><td>17</td><td>off_peak</td></tr><tr><td>19</td><td>104</td><td>2</td><td>2025-06-26T18:00:00Z</td><td>0.6</td><td>18</td><td>peak</td></tr><tr><td>20</td><td>105</td><td>3</td><td>2025-06-26T19:45:00Z</td><td>1.2</td><td>19</td><td>peak</td></tr><tr><td>21</td><td>101</td><td>1</td><td>2025-06-26T20:00:00Z</td><td>0.2</td><td>20</td><td>peak</td></tr><tr><td>22</td><td>102</td><td>1</td><td>2025-06-26T21:30:00Z</td><td>0.3</td><td>21</td><td>peak</td></tr><tr><td>23</td><td>103</td><td>2</td><td>2025-06-26T22:45:00Z</td><td>0.4</td><td>22</td><td>peak</td></tr><tr><td>24</td><td>104</td><td>2</td><td>2025-06-26T23:15:00Z</td><td>0.2</td><td>23</td><td>peak</td></tr><tr><td>25</td><td>105</td><td>3</td><td>2025-06-27T00:00:00Z</td><td>1.3</td><td>0</td><td>off_peak</td></tr><tr><td>26</td><td>101</td><td>1</td><td>2025-06-27T01:30:00Z</td><td>0.1</td><td>1</td><td>off_peak</td></tr><tr><td>27</td><td>102</td><td>1</td><td>2025-06-27T02:15:00Z</td><td>0.2</td><td>2</td><td>off_peak</td></tr><tr><td>28</td><td>103</td><td>2</td><td>2025-06-27T03:00:00Z</td><td>0.4</td><td>3</td><td>off_peak</td></tr><tr><td>29</td><td>104</td><td>2</td><td>2025-06-27T04:30:00Z</td><td>0.3</td><td>4</td><td>off_peak</td></tr><tr><td>30</td><td>105</td><td>3</td><td>2025-06-27T05:45:00Z</td><td>1.0</td><td>5</td><td>off_peak</td></tr><tr><td>31</td><td>101</td><td>1</td><td>2025-06-27T06:00:00Z</td><td>0.3</td><td>6</td><td>off_peak</td></tr><tr><td>32</td><td>102</td><td>1</td><td>2025-06-27T07:15:00Z</td><td>0.4</td><td>7</td><td>off_peak</td></tr><tr><td>33</td><td>103</td><td>2</td><td>2025-06-27T08:00:00Z</td><td>0.5</td><td>8</td><td>off_peak</td></tr><tr><td>34</td><td>104</td><td>2</td><td>2025-06-27T09:30:00Z</td><td>0.6</td><td>9</td><td>off_peak</td></tr><tr><td>35</td><td>105</td><td>3</td><td>2025-06-27T10:45:00Z</td><td>1.1</td><td>10</td><td>off_peak</td></tr><tr><td>36</td><td>101</td><td>1</td><td>2025-06-27T11:00:00Z</td><td>0.2</td><td>11</td><td>off_peak</td></tr><tr><td>37</td><td>102</td><td>1</td><td>2025-06-27T12:15:00Z</td><td>0.3</td><td>12</td><td>off_peak</td></tr><tr><td>38</td><td>103</td><td>2</td><td>2025-06-27T13:00:00Z</td><td>0.6</td><td>13</td><td>off_peak</td></tr><tr><td>39</td><td>104</td><td>2</td><td>2025-06-27T14:30:00Z</td><td>0.7</td><td>14</td><td>off_peak</td></tr><tr><td>40</td><td>105</td><td>3</td><td>2025-06-27T15:45:00Z</td><td>1.2</td><td>15</td><td>off_peak</td></tr><tr><td>41</td><td>101</td><td>1</td><td>2025-06-27T16:00:00Z</td><td>0.3</td><td>16</td><td>off_peak</td></tr><tr><td>42</td><td>102</td><td>1</td><td>2025-06-27T17:15:00Z</td><td>0.5</td><td>17</td><td>off_peak</td></tr><tr><td>43</td><td>103</td><td>2</td><td>2025-06-27T18:00:00Z</td><td>0.8</td><td>18</td><td>peak</td></tr><tr><td>44</td><td>104</td><td>2</td><td>2025-06-27T19:30:00Z</td><td>0.4</td><td>19</td><td>peak</td></tr><tr><td>45</td><td>105</td><td>3</td><td>2025-06-27T20:45:00Z</td><td>1.3</td><td>20</td><td>peak</td></tr><tr><td>46</td><td>101</td><td>1</td><td>2025-06-27T21:00:00Z</td><td>0.2</td><td>21</td><td>peak</td></tr><tr><td>47</td><td>102</td><td>1</td><td>2025-06-27T22:15:00Z</td><td>0.3</td><td>22</td><td>peak</td></tr><tr><td>48</td><td>103</td><td>2</td><td>2025-06-27T23:00:00Z</td><td>0.5</td><td>23</td><td>peak</td></tr><tr><td>49</td><td>104</td><td>2</td><td>2025-06-27T23:59:00Z</td><td>0.6</td><td>23</td><td>peak</td></tr><tr><td>50</td><td>105</td><td>3</td><td>2025-06-27T23:59:59Z</td><td>1.4</td><td>23</td><td>peak</td></tr></tbody></table></div>"
      ]
     },
     "metadata": {
      "application/vnd.databricks.v1+output": {
       "addedWidgets": {},
       "aggData": [],
       "aggError": "",
       "aggOverflow": false,
       "aggSchema": [],
       "aggSeriesLimitReached": false,
       "aggType": "",
       "arguments": {},
       "columnCustomDisplayInfos": {},
       "data": [
        [
         1,
         101,
         1,
         "2025-06-26T00:15:00Z",
         0.1,
         0,
         "off_peak"
        ],
        [
         2,
         102,
         1,
         "2025-06-26T01:30:00Z",
         0.2,
         1,
         "off_peak"
        ],
        [
         3,
         103,
         2,
         "2025-06-26T02:00:00Z",
         0.5,
         2,
         "off_peak"
        ],
        [
         4,
         104,
         2,
         "2025-06-26T03:15:00Z",
         0.3,
         3,
         "off_peak"
        ],
        [
         5,
         105,
         3,
         "2025-06-26T04:00:00Z",
         1.0,
         4,
         "off_peak"
        ],
        [
         6,
         101,
         1,
         "2025-06-26T05:45:00Z",
         0.2,
         5,
         "off_peak"
        ],
        [
         7,
         102,
         1,
         "2025-06-26T06:00:00Z",
         0.4,
         6,
         "off_peak"
        ],
        [
         8,
         103,
         2,
         "2025-06-26T07:30:00Z",
         0.7,
         7,
         "off_peak"
        ],
        [
         9,
         104,
         2,
         "2025-06-26T08:00:00Z",
         0.6,
         8,
         "off_peak"
        ],
        [
         10,
         105,
         3,
         "2025-06-26T09:15:00Z",
         1.1,
         9,
         "off_peak"
        ],
        [
         11,
         101,
         1,
         "2025-06-26T10:00:00Z",
         0.3,
         10,
         "off_peak"
        ],
        [
         12,
         102,
         1,
         "2025-06-26T11:30:00Z",
         0.6,
         11,
         "off_peak"
        ],
        [
         13,
         103,
         2,
         "2025-06-26T12:45:00Z",
         0.8,
         12,
         "off_peak"
        ],
        [
         14,
         104,
         2,
         "2025-06-26T13:00:00Z",
         0.7,
         13,
         "off_peak"
        ],
        [
         15,
         105,
         3,
         "2025-06-26T14:15:00Z",
         1.4,
         14,
         "off_peak"
        ],
        [
         16,
         101,
         1,
         "2025-06-26T15:30:00Z",
         0.4,
         15,
         "off_peak"
        ],
        [
         17,
         102,
         1,
         "2025-06-26T16:00:00Z",
         0.5,
         16,
         "off_peak"
        ],
        [
         18,
         103,
         2,
         "2025-06-26T17:30:00Z",
         0.9,
         17,
         "off_peak"
        ],
        [
         19,
         104,
         2,
         "2025-06-26T18:00:00Z",
         0.6,
         18,
         "peak"
        ],
        [
         20,
         105,
         3,
         "2025-06-26T19:45:00Z",
         1.2,
         19,
         "peak"
        ],
        [
         21,
         101,
         1,
         "2025-06-26T20:00:00Z",
         0.2,
         20,
         "peak"
        ],
        [
         22,
         102,
         1,
         "2025-06-26T21:30:00Z",
         0.3,
         21,
         "peak"
        ],
        [
         23,
         103,
         2,
         "2025-06-26T22:45:00Z",
         0.4,
         22,
         "peak"
        ],
        [
         24,
         104,
         2,
         "2025-06-26T23:15:00Z",
         0.2,
         23,
         "peak"
        ],
        [
         25,
         105,
         3,
         "2025-06-27T00:00:00Z",
         1.3,
         0,
         "off_peak"
        ],
        [
         26,
         101,
         1,
         "2025-06-27T01:30:00Z",
         0.1,
         1,
         "off_peak"
        ],
        [
         27,
         102,
         1,
         "2025-06-27T02:15:00Z",
         0.2,
         2,
         "off_peak"
        ],
        [
         28,
         103,
         2,
         "2025-06-27T03:00:00Z",
         0.4,
         3,
         "off_peak"
        ],
        [
         29,
         104,
         2,
         "2025-06-27T04:30:00Z",
         0.3,
         4,
         "off_peak"
        ],
        [
         30,
         105,
         3,
         "2025-06-27T05:45:00Z",
         1.0,
         5,
         "off_peak"
        ],
        [
         31,
         101,
         1,
         "2025-06-27T06:00:00Z",
         0.3,
         6,
         "off_peak"
        ],
        [
         32,
         102,
         1,
         "2025-06-27T07:15:00Z",
         0.4,
         7,
         "off_peak"
        ],
        [
         33,
         103,
         2,
         "2025-06-27T08:00:00Z",
         0.5,
         8,
         "off_peak"
        ],
        [
         34,
         104,
         2,
         "2025-06-27T09:30:00Z",
         0.6,
         9,
         "off_peak"
        ],
        [
         35,
         105,
         3,
         "2025-06-27T10:45:00Z",
         1.1,
         10,
         "off_peak"
        ],
        [
         36,
         101,
         1,
         "2025-06-27T11:00:00Z",
         0.2,
         11,
         "off_peak"
        ],
        [
         37,
         102,
         1,
         "2025-06-27T12:15:00Z",
         0.3,
         12,
         "off_peak"
        ],
        [
         38,
         103,
         2,
         "2025-06-27T13:00:00Z",
         0.6,
         13,
         "off_peak"
        ],
        [
         39,
         104,
         2,
         "2025-06-27T14:30:00Z",
         0.7,
         14,
         "off_peak"
        ],
        [
         40,
         105,
         3,
         "2025-06-27T15:45:00Z",
         1.2,
         15,
         "off_peak"
        ],
        [
         41,
         101,
         1,
         "2025-06-27T16:00:00Z",
         0.3,
         16,
         "off_peak"
        ],
        [
         42,
         102,
         1,
         "2025-06-27T17:15:00Z",
         0.5,
         17,
         "off_peak"
        ],
        [
         43,
         103,
         2,
         "2025-06-27T18:00:00Z",
         0.8,
         18,
         "peak"
        ],
        [
         44,
         104,
         2,
         "2025-06-27T19:30:00Z",
         0.4,
         19,
         "peak"
        ],
        [
         45,
         105,
         3,
         "2025-06-27T20:45:00Z",
         1.3,
         20,
         "peak"
        ],
        [
         46,
         101,
         1,
         "2025-06-27T21:00:00Z",
         0.2,
         21,
         "peak"
        ],
        [
         47,
         102,
         1,
         "2025-06-27T22:15:00Z",
         0.3,
         22,
         "peak"
        ],
        [
         48,
         103,
         2,
         "2025-06-27T23:00:00Z",
         0.5,
         23,
         "peak"
        ],
        [
         49,
         104,
         2,
         "2025-06-27T23:59:00Z",
         0.6,
         23,
         "peak"
        ],
        [
         50,
         105,
         3,
         "2025-06-27T23:59:59Z",
         1.4,
         23,
         "peak"
        ]
       ],
       "datasetInfos": [],
       "dbfsResultPath": null,
       "isJsonSchema": true,
       "metadata": {},
       "overflow": false,
       "plotOptions": {
        "customPlotOptions": {},
        "displayType": "table",
        "pivotAggregation": null,
        "pivotColumns": null,
        "xColumns": null,
        "yColumns": null
       },
       "removedWidgets": [],
       "schema": [
        {
         "metadata": "{}",
         "name": "log_id",
         "type": "\"integer\""
        },
        {
         "metadata": "{}",
         "name": "device_id",
         "type": "\"integer\""
        },
        {
         "metadata": "{}",
         "name": "room_id",
         "type": "\"integer\""
        },
        {
         "metadata": "{}",
         "name": "timestamp",
         "type": "\"timestamp\""
        },
        {
         "metadata": "{}",
         "name": "energy_kwh",
         "type": "\"double\""
        },
        {
         "metadata": "{}",
         "name": "hour",
         "type": "\"integer\""
        },
        {
         "metadata": "{}",
         "name": "is_peak",
         "type": "\"string\""
        }
       ],
       "type": "table"
      }
     },
     "output_type": "display_data"
    }
   ],
   "source": [
    "df = spark.read.csv(\"file:/Workspace/Shared/cleaned_large_sensor_log.csv\", header=True, inferSchema=True)\n",
    "df.display()"
   ]
  },
  {
   "cell_type": "markdown",
   "metadata": {
    "application/vnd.databricks.v1+cell": {
     "cellMetadata": {},
     "inputWidgets": {},
     "nuid": "bd9e1d34-dc76-45b1-9d8f-57807d7261dd",
     "showTitle": false,
     "tableResultSettingsMap": {},
     "title": ""
    }
   },
   "source": [
    "TRANSFORM"
   ]
  },
  {
   "cell_type": "code",
   "execution_count": 0,
   "metadata": {
    "application/vnd.databricks.v1+cell": {
     "cellMetadata": {
      "byteLimit": 2048000,
      "rowLimit": 10000
     },
     "inputWidgets": {},
     "nuid": "a688f1f0-4bed-46c8-9f19-937feffc7d2a",
     "showTitle": false,
     "tableResultSettingsMap": {},
     "title": ""
    }
   },
   "outputs": [
    {
     "output_type": "display_data",
     "data": {
      "text/html": [
       "<style scoped>\n",
       "  .table-result-container {\n",
       "    max-height: 300px;\n",
       "    overflow: auto;\n",
       "  }\n",
       "  table, th, td {\n",
       "    border: 1px solid black;\n",
       "    border-collapse: collapse;\n",
       "  }\n",
       "  th, td {\n",
       "    padding: 5px;\n",
       "  }\n",
       "  th {\n",
       "    text-align: left;\n",
       "  }\n",
       "</style><div class='table-result-container'><table class='table-result'><thead style='background-color: white'><tr><th>device_id</th><th>date</th><th>total_kwh</th></tr></thead><tbody><tr><td>103</td><td>2025-06-27</td><td>2.8</td></tr><tr><td>104</td><td>2025-06-27</td><td>2.6</td></tr><tr><td>101</td><td>2025-06-27</td><td>1.1</td></tr><tr><td>102</td><td>2025-06-27</td><td>1.7000000000000002</td></tr><tr><td>102</td><td>2025-06-26</td><td>2.0</td></tr><tr><td>101</td><td>2025-06-26</td><td>1.2</td></tr><tr><td>105</td><td>2025-06-26</td><td>4.7</td></tr><tr><td>105</td><td>2025-06-27</td><td>7.299999999999999</td></tr><tr><td>104</td><td>2025-06-26</td><td>2.4</td></tr><tr><td>103</td><td>2025-06-26</td><td>3.3</td></tr></tbody></table></div>"
      ]
     },
     "metadata": {
      "application/vnd.databricks.v1+output": {
       "addedWidgets": {},
       "aggData": [],
       "aggError": "",
       "aggOverflow": false,
       "aggSchema": [],
       "aggSeriesLimitReached": false,
       "aggType": "",
       "arguments": {},
       "columnCustomDisplayInfos": {},
       "data": [
        [
         103,
         "2025-06-27",
         2.8
        ],
        [
         104,
         "2025-06-27",
         2.6
        ],
        [
         101,
         "2025-06-27",
         1.1
        ],
        [
         102,
         "2025-06-27",
         1.7000000000000002
        ],
        [
         102,
         "2025-06-26",
         2.0
        ],
        [
         101,
         "2025-06-26",
         1.2
        ],
        [
         105,
         "2025-06-26",
         4.7
        ],
        [
         105,
         "2025-06-27",
         7.299999999999999
        ],
        [
         104,
         "2025-06-26",
         2.4
        ],
        [
         103,
         "2025-06-26",
         3.3
        ]
       ],
       "datasetInfos": [],
       "dbfsResultPath": null,
       "isJsonSchema": true,
       "metadata": {},
       "overflow": false,
       "plotOptions": {
        "customPlotOptions": {},
        "displayType": "table",
        "pivotAggregation": null,
        "pivotColumns": null,
        "xColumns": null,
        "yColumns": null
       },
       "removedWidgets": [],
       "schema": [
        {
         "metadata": "{}",
         "name": "device_id",
         "type": "\"integer\""
        },
        {
         "metadata": "{}",
         "name": "date",
         "type": "\"date\""
        },
        {
         "metadata": "{}",
         "name": "total_kwh",
         "type": "\"double\""
        }
       ],
       "type": "table"
      }
     },
     "output_type": "display_data"
    }
   ],
   "source": [
    "daily_summary = df.withColumn(\"date\", to_date(\"timestamp\")).groupBy(\"device_id\", \"date\").agg(sum(\"energy_kwh\").alias(\"total_kwh\"))\n",
    "daily_summary.display()"
   ]
  },
  {
   "cell_type": "code",
   "execution_count": 0,
   "metadata": {
    "application/vnd.databricks.v1+cell": {
     "cellMetadata": {
      "byteLimit": 2048000,
      "rowLimit": 10000
     },
     "inputWidgets": {},
     "nuid": "f2c4d669-4ad9-4c40-82d6-dac0ebcfa460",
     "showTitle": false,
     "tableResultSettingsMap": {},
     "title": ""
    }
   },
   "outputs": [
    {
     "output_type": "display_data",
     "data": {
      "text/html": [
       "<style scoped>\n",
       "  .table-result-container {\n",
       "    max-height: 300px;\n",
       "    overflow: auto;\n",
       "  }\n",
       "  table, th, td {\n",
       "    border: 1px solid black;\n",
       "    border-collapse: collapse;\n",
       "  }\n",
       "  th, td {\n",
       "    padding: 5px;\n",
       "  }\n",
       "  th {\n",
       "    text-align: left;\n",
       "  }\n",
       "</style><div class='table-result-container'><table class='table-result'><thead style='background-color: white'><tr><th>device_id</th><th>week</th><th>total_kwh</th></tr></thead><tbody><tr><td>104</td><td>26</td><td>5.0</td></tr><tr><td>103</td><td>26</td><td>6.099999999999999</td></tr><tr><td>102</td><td>26</td><td>3.6999999999999997</td></tr><tr><td>101</td><td>26</td><td>2.3000000000000003</td></tr><tr><td>105</td><td>26</td><td>12.0</td></tr></tbody></table></div>"
      ]
     },
     "metadata": {
      "application/vnd.databricks.v1+output": {
       "addedWidgets": {},
       "aggData": [],
       "aggError": "",
       "aggOverflow": false,
       "aggSchema": [],
       "aggSeriesLimitReached": false,
       "aggType": "",
       "arguments": {},
       "columnCustomDisplayInfos": {},
       "data": [
        [
         104,
         26,
         5.0
        ],
        [
         103,
         26,
         6.099999999999999
        ],
        [
         102,
         26,
         3.6999999999999997
        ],
        [
         101,
         26,
         2.3000000000000003
        ],
        [
         105,
         26,
         12.0
        ]
       ],
       "datasetInfos": [],
       "dbfsResultPath": null,
       "isJsonSchema": true,
       "metadata": {},
       "overflow": false,
       "plotOptions": {
        "customPlotOptions": {},
        "displayType": "table",
        "pivotAggregation": null,
        "pivotColumns": null,
        "xColumns": null,
        "yColumns": null
       },
       "removedWidgets": [],
       "schema": [
        {
         "metadata": "{}",
         "name": "device_id",
         "type": "\"integer\""
        },
        {
         "metadata": "{}",
         "name": "week",
         "type": "\"integer\""
        },
        {
         "metadata": "{}",
         "name": "total_kwh",
         "type": "\"double\""
        }
       ],
       "type": "table"
      }
     },
     "output_type": "display_data"
    }
   ],
   "source": [
    "weekly_summary = df.withColumn(\"week\", weekofyear(\"timestamp\")).groupBy(\"device_id\", \"week\").agg(sum(\"energy_kwh\").alias(\"total_kwh\"))\n",
    "weekly_summary.display()"
   ]
  },
  {
   "cell_type": "markdown",
   "metadata": {
    "application/vnd.databricks.v1+cell": {
     "cellMetadata": {},
     "inputWidgets": {},
     "nuid": "a1bd98c5-cf2c-424d-8f1d-42dd13e937ff",
     "showTitle": false,
     "tableResultSettingsMap": {},
     "title": ""
    }
   },
   "source": [
    "LOAD"
   ]
  },
  {
   "cell_type": "code",
   "execution_count": 0,
   "metadata": {
    "application/vnd.databricks.v1+cell": {
     "cellMetadata": {
      "byteLimit": 2048000,
      "rowLimit": 10000
     },
     "inputWidgets": {},
     "nuid": "1b6e7de6-f286-4af7-b726-c8791d49c5da",
     "showTitle": false,
     "tableResultSettingsMap": {},
     "title": ""
    }
   },
   "outputs": [],
   "source": [
    "daily_summary.write.format(\"delta\").mode(\"overwrite\").save(\"file:/Workspace/Shared/daily\")\n",
    "weekly_summary.write.format(\"delta\").mode(\"overwrite\").save(\"file:/Workspace/Shared/weekly\")\n",
    "\n",
    "daily_summary.toPandas().to_csv(\"daily_summary.csv\", index=False)\n",
    "weekly_summary.toPandas().to_csv(\"weekly_summary.csv\", index=False)\n"
   ]
  },
  {
   "cell_type": "markdown",
   "metadata": {
    "application/vnd.databricks.v1+cell": {
     "cellMetadata": {},
     "inputWidgets": {},
     "nuid": "5505ec2e-a52b-4a46-b00f-7be15ff8e5bf",
     "showTitle": false,
     "tableResultSettingsMap": {},
     "title": ""
    }
   },
   "source": [
    "SQL to query energy savings opportunities"
   ]
  },
  {
   "cell_type": "code",
   "execution_count": 0,
   "metadata": {
    "application/vnd.databricks.v1+cell": {
     "cellMetadata": {
      "byteLimit": 2048000,
      "rowLimit": 10000
     },
     "inputWidgets": {},
     "nuid": "c0fd72b8-2f35-47f3-88b5-425802899374",
     "showTitle": false,
     "tableResultSettingsMap": {},
     "title": ""
    }
   },
   "outputs": [
    {
     "output_type": "stream",
     "name": "stdout",
     "output_type": "stream",
     "text": [
      "+---------+----------+------------------+\n|device_id|      date|         total_kwh|\n+---------+----------+------------------+\n|      103|2025-06-27|               2.8|\n|      104|2025-06-27|               2.6|\n|      101|2025-06-27|               1.1|\n|      102|2025-06-27|1.7000000000000002|\n|      102|2025-06-26|               2.0|\n|      101|2025-06-26|               1.2|\n|      105|2025-06-26|               4.7|\n|      105|2025-06-27| 7.299999999999999|\n|      104|2025-06-26|               2.4|\n|      103|2025-06-26|               3.3|\n+---------+----------+------------------+\n\n"
     ]
    }
   ],
   "source": [
    "spark.sql(\"\"\"\n",
    "    SELECT device_id, date, total_kwh\n",
    "    FROM daily_summary_view\n",
    "    WHERE total_kwh > 1.0;\n",
    "\"\"\").show()"
   ]
  },
  {
   "cell_type": "code",
   "execution_count": 0,
   "metadata": {
    "application/vnd.databricks.v1+cell": {
     "cellMetadata": {},
     "inputWidgets": {},
     "nuid": "21d5b503-0ec5-47a6-a3bc-2b7a2cdc5db8",
     "showTitle": false,
     "tableResultSettingsMap": {},
     "title": ""
    }
   },
   "outputs": [],
   "source": []
  }
 ],
 "metadata": {
  "application/vnd.databricks.v1+notebook": {
   "computePreferences": null,
   "dashboards": [],
   "environmentMetadata": {
    "base_environment": "",
    "environment_version": "2"
   },
   "inputWidgetPreferences": null,
   "language": "python",
   "notebookMetadata": {
    "pythonIndentUnit": 4
   },
   "notebookName": "ETL_pipeline",
   "widgets": {}
  },
  "language_info": {
   "name": "python"
  }
 },
 "nbformat": 4,
 "nbformat_minor": 0
}