{
  "nbformat": 4,
  "nbformat_minor": 0,
  "metadata": {
    "colab": {
      "provenance": []
    },
    "kernelspec": {
      "name": "python3",
      "display_name": "Python 3"
    },
    "language_info": {
      "name": "python"
    }
  },
  "cells": [
    {
      "cell_type": "code",
      "execution_count": 1,
      "metadata": {
        "colab": {
          "base_uri": "https://localhost:8080/"
        },
        "id": "73VrugKliWT0",
        "outputId": "41f8d93c-7b02-4491-be06-6d53a619f259"
      },
      "outputs": [
        {
          "output_type": "stream",
          "name": "stdout",
          "text": [
            "root\n",
            " |-- EmployeeID: string (nullable = true)\n",
            " |-- Name: string (nullable = true)\n",
            " |-- Department: string (nullable = true)\n",
            " |-- Project: string (nullable = true)\n",
            " |-- WorkHours: integer (nullable = true)\n",
            " |-- WorkDate: date (nullable = true)\n",
            " |-- Location: string (nullable = true)\n",
            " |-- Mode: string (nullable = true)\n",
            "\n"
          ]
        }
      ],
      "source": [
        "from pyspark.sql import SparkSession\n",
        "from pyspark.sql.functions import *\n",
        "from pyspark.sql.types import *\n",
        "from pyspark.sql.window import Window\n",
        "spark = SparkSession.builder.appName(\"EmployeeTimesheet\").getOrCreate()\n",
        "df = spark.read.option(\"header\", True).option(\"inferSchema\", True).csv(\"employee_timesheet.csv\")\n",
        "df.printSchema()"
      ]
    },
    {
      "cell_type": "code",
      "source": [
        "schema = StructType([\n",
        "    StructField(\"EmployeeID\", StringType(), True),\n",
        "    StructField(\"Name\", StringType(), True),\n",
        "    StructField(\"Department\", StringType(), True),\n",
        "    StructField(\"Project\", StringType(), True),\n",
        "    StructField(\"WorkHours\", IntegerType(), True),\n",
        "    StructField(\"WorkDate\", DateType(), True),\n",
        "    StructField(\"Location\", StringType(), True),\n",
        "    StructField(\"Mode\", StringType(), True)\n",
        "])\n",
        "df_explicit = spark.read.schema(schema).option(\"header\", True).csv(\"employee_timesheet.csv\")\n"
      ],
      "metadata": {
        "id": "MN3JrdAdj8ru"
      },
      "execution_count": 2,
      "outputs": []
    },
    {
      "cell_type": "code",
      "source": [
        "df_explicit = df_explicit.withColumn(\"Weekday\", date_format(\"WorkDate\", \"EEEE\"))\n"
      ],
      "metadata": {
        "id": "CT-AXHSlj8xO"
      },
      "execution_count": 3,
      "outputs": []
    },
    {
      "cell_type": "markdown",
      "source": [
        "Aggregations & Grouping"
      ],
      "metadata": {
        "id": "i1hdWArtkJb2"
      }
    },
    {
      "cell_type": "code",
      "source": [
        "df_explicit.groupBy(\"EmployeeID\", \"Name\").agg(sum(\"WorkHours\").alias(\"TotalHours\")).show()\n"
      ],
      "metadata": {
        "colab": {
          "base_uri": "https://localhost:8080/"
        },
        "id": "nYxJT4sLj81G",
        "outputId": "2398ab4d-eb77-4571-c38c-d6dde00fd64b"
      },
      "execution_count": 4,
      "outputs": [
        {
          "output_type": "stream",
          "name": "stdout",
          "text": [
            "+----------+-----+----------+\n",
            "|EmployeeID| Name|TotalHours|\n",
            "+----------+-----+----------+\n",
            "|      E103| John|         5|\n",
            "|      E104|Meena|         6|\n",
            "|      E102|  Raj|        15|\n",
            "|      E101|Anita|        17|\n",
            "+----------+-----+----------+\n",
            "\n"
          ]
        }
      ]
    },
    {
      "cell_type": "code",
      "source": [
        "df_explicit.groupBy(\"Department\").agg(avg(\"WorkHours\").alias(\"AvgHours\")).show()\n"
      ],
      "metadata": {
        "colab": {
          "base_uri": "https://localhost:8080/"
        },
        "id": "keldZgJvj84u",
        "outputId": "45558af0-6617-47a2-954e-6f0656839c51"
      },
      "execution_count": 5,
      "outputs": [
        {
          "output_type": "stream",
          "name": "stdout",
          "text": [
            "+----------+-----------------+\n",
            "|Department|         AvgHours|\n",
            "+----------+-----------------+\n",
            "|        HR|              7.5|\n",
            "|   Finance|              5.0|\n",
            "|        IT|7.666666666666667|\n",
            "+----------+-----------------+\n",
            "\n"
          ]
        }
      ]
    },
    {
      "cell_type": "code",
      "source": [
        "windowSpec = Window.orderBy(col(\"TotalHours\").desc())\n",
        "df_hours = df_explicit.groupBy(\"EmployeeID\", \"Name\").agg(sum(\"WorkHours\").alias(\"TotalHours\"))\n",
        "df_hours.withColumn(\"Rank\", dense_rank().over(windowSpec)).filter(col(\"Rank\") <= 2).show()\n"
      ],
      "metadata": {
        "colab": {
          "base_uri": "https://localhost:8080/"
        },
        "id": "scjuSCJfj88W",
        "outputId": "c1e0c496-1c9d-4753-a2aa-3008cab9f5cd"
      },
      "execution_count": 6,
      "outputs": [
        {
          "output_type": "stream",
          "name": "stdout",
          "text": [
            "+----------+-----+----------+----+\n",
            "|EmployeeID| Name|TotalHours|Rank|\n",
            "+----------+-----+----------+----+\n",
            "|      E101|Anita|        17|   1|\n",
            "|      E102|  Raj|        15|   2|\n",
            "+----------+-----+----------+----+\n",
            "\n"
          ]
        }
      ]
    },
    {
      "cell_type": "markdown",
      "source": [
        "Date Operations"
      ],
      "metadata": {
        "id": "VVxcvSLskTkv"
      }
    },
    {
      "cell_type": "code",
      "source": [
        "df_explicit.filter(col(\"Weekday\").isin(\"Saturday\", \"Sunday\")).show()"
      ],
      "metadata": {
        "colab": {
          "base_uri": "https://localhost:8080/"
        },
        "id": "Myz_aPeZj8_x",
        "outputId": "b3ffc316-1643-4f8b-8c39-57e68413d5fa"
      },
      "execution_count": 7,
      "outputs": [
        {
          "output_type": "stream",
          "name": "stdout",
          "text": [
            "+----------+----+----------+-------+---------+----------+--------+------+--------+\n",
            "|EmployeeID|Name|Department|Project|WorkHours|  WorkDate|Location|  Mode| Weekday|\n",
            "+----------+----+----------+-------+---------+----------+--------+------+--------+\n",
            "|      E102| Raj|        HR|   Beta|        8|2024-05-04|  Mumbai|Remote|Saturday|\n",
            "+----------+----+----------+-------+---------+----------+--------+------+--------+\n",
            "\n"
          ]
        }
      ]
    },
    {
      "cell_type": "code",
      "source": [
        "windowEmp = Window.partitionBy(\"EmployeeID\").orderBy(\"WorkDate\").rowsBetween(Window.unboundedPreceding, 0)\n",
        "df_running = df_explicit.withColumn(\"RunningTotal\", sum(\"WorkHours\").over(windowEmp))\n",
        "df_running.select(\"EmployeeID\", \"WorkDate\", \"WorkHours\", \"RunningTotal\").show()\n"
      ],
      "metadata": {
        "colab": {
          "base_uri": "https://localhost:8080/"
        },
        "id": "2n62uPykkkCc",
        "outputId": "4ca5a3f2-aeed-4ad7-a298-98bd79de578d"
      },
      "execution_count": 8,
      "outputs": [
        {
          "output_type": "stream",
          "name": "stdout",
          "text": [
            "+----------+----------+---------+------------+\n",
            "|EmployeeID|  WorkDate|WorkHours|RunningTotal|\n",
            "+----------+----------+---------+------------+\n",
            "|      E101|2024-05-01|        8|           8|\n",
            "|      E101|2024-05-03|        9|          17|\n",
            "|      E102|2024-05-01|        7|           7|\n",
            "|      E102|2024-05-04|        8|          15|\n",
            "|      E103|2024-05-02|        5|           5|\n",
            "|      E104|2024-05-03|        6|           6|\n",
            "+----------+----------+---------+------------+\n",
            "\n"
          ]
        }
      ]
    },
    {
      "cell_type": "markdown",
      "source": [
        "Joining DataFrames"
      ],
      "metadata": {
        "id": "-I8Kr2xdknSR"
      }
    },
    {
      "cell_type": "code",
      "source": [
        "dept_df = spark.read.option(\"header\", True).csv(\"department_location.csv\")\n"
      ],
      "metadata": {
        "id": "5dMHYU93kj8_"
      },
      "execution_count": 9,
      "outputs": []
    },
    {
      "cell_type": "code",
      "source": [
        "df_joined = df_explicit.join(dept_df, on=\"Department\", how=\"left\")\n",
        "df_joined.select(\"EmployeeID\", \"Name\", \"Department\", \"DeptHead\").show()\n"
      ],
      "metadata": {
        "colab": {
          "base_uri": "https://localhost:8080/"
        },
        "id": "n-NtU33Fkj0q",
        "outputId": "f50e82ea-cebd-4fd6-933c-905cca429ae6"
      },
      "execution_count": 10,
      "outputs": [
        {
          "output_type": "stream",
          "name": "stdout",
          "text": [
            "+----------+-----+----------+--------+\n",
            "|EmployeeID| Name|Department|DeptHead|\n",
            "+----------+-----+----------+--------+\n",
            "|      E101|Anita|        IT|   Anand|\n",
            "|      E102|  Raj|        HR|  Shruti|\n",
            "|      E103| John|   Finance|   Kamal|\n",
            "|      E101|Anita|        IT|   Anand|\n",
            "|      E104|Meena|        IT|   Anand|\n",
            "|      E102|  Raj|        HR|  Shruti|\n",
            "+----------+-----+----------+--------+\n",
            "\n"
          ]
        }
      ]
    },
    {
      "cell_type": "markdown",
      "source": [
        "Pivot & Unpivot"
      ],
      "metadata": {
        "id": "Ye2Uvifakx7x"
      }
    },
    {
      "cell_type": "code",
      "source": [
        "df_explicit.groupBy(\"EmployeeID\").pivot(\"Project\").agg(sum(\"WorkHours\")).show()\n"
      ],
      "metadata": {
        "colab": {
          "base_uri": "https://localhost:8080/"
        },
        "id": "KOSgfUzGkxl4",
        "outputId": "6b11ded5-85f4-487b-d036-70db784dcc1a"
      },
      "execution_count": 11,
      "outputs": [
        {
          "output_type": "stream",
          "name": "stdout",
          "text": [
            "+----------+-----+----+-----+\n",
            "|EmployeeID|Alpha|Beta|Gamma|\n",
            "+----------+-----+----+-----+\n",
            "|      E103|    5|NULL| NULL|\n",
            "|      E104| NULL|NULL|    6|\n",
            "|      E101|   17|NULL| NULL|\n",
            "|      E102| NULL|  15| NULL|\n",
            "+----------+-----+----+-----+\n",
            "\n"
          ]
        }
      ]
    },
    {
      "cell_type": "code",
      "source": [
        "df_mode_pivot = df_explicit.groupBy(\"EmployeeID\").pivot(\"Mode\").agg(sum(\"WorkHours\"))\n",
        "df_unpivot = df_mode_pivot.select(\n",
        "    col(\"EmployeeID\"),\n",
        "    expr(\"stack(2, 'Remote', Remote, 'Onsite', Onsite) as (ModeType, Hours)\")\n",
        ")\n",
        "df_unpivot.show()"
      ],
      "metadata": {
        "colab": {
          "base_uri": "https://localhost:8080/"
        },
        "id": "WhOuGrqWkxiw",
        "outputId": "f96b8eaf-2ca2-472d-ecee-2b54621bf289"
      },
      "execution_count": 12,
      "outputs": [
        {
          "output_type": "stream",
          "name": "stdout",
          "text": [
            "+----------+--------+-----+\n",
            "|EmployeeID|ModeType|Hours|\n",
            "+----------+--------+-----+\n",
            "|      E103|  Remote|    5|\n",
            "|      E103|  Onsite| NULL|\n",
            "|      E104|  Remote| NULL|\n",
            "|      E104|  Onsite|    6|\n",
            "|      E101|  Remote|   17|\n",
            "|      E101|  Onsite| NULL|\n",
            "|      E102|  Remote|    8|\n",
            "|      E102|  Onsite|    7|\n",
            "+----------+--------+-----+\n",
            "\n"
          ]
        }
      ]
    },
    {
      "cell_type": "markdown",
      "source": [
        "UDF & Conditional Logic"
      ],
      "metadata": {
        "id": "swO_f1r_k5nK"
      }
    },
    {
      "cell_type": "code",
      "source": [
        "def workload_tag(hours):\n",
        "    if hours >= 8:\n",
        "        return \"Full\"\n",
        "    elif hours >= 4:\n",
        "        return \"Partial\"\n",
        "    else:\n",
        "        return \"Light\"\n",
        "\n",
        "tag_udf = udf(workload_tag, StringType())"
      ],
      "metadata": {
        "id": "yc1rcHQRkxem"
      },
      "execution_count": 13,
      "outputs": []
    },
    {
      "cell_type": "code",
      "source": [
        "df_tagged = df_explicit.withColumn(\"WorkloadCategory\", tag_udf(col(\"WorkHours\")))\n",
        "df_tagged.select(\"EmployeeID\", \"WorkHours\", \"WorkloadCategory\").show()\n"
      ],
      "metadata": {
        "colab": {
          "base_uri": "https://localhost:8080/"
        },
        "id": "J6CKpkLHkxZJ",
        "outputId": "70a0ace6-9353-44c9-e907-a298b0cca327"
      },
      "execution_count": 14,
      "outputs": [
        {
          "output_type": "stream",
          "name": "stdout",
          "text": [
            "+----------+---------+----------------+\n",
            "|EmployeeID|WorkHours|WorkloadCategory|\n",
            "+----------+---------+----------------+\n",
            "|      E101|        8|            Full|\n",
            "|      E102|        7|         Partial|\n",
            "|      E103|        5|         Partial|\n",
            "|      E101|        9|            Full|\n",
            "|      E104|        6|         Partial|\n",
            "|      E102|        8|            Full|\n",
            "+----------+---------+----------------+\n",
            "\n"
          ]
        }
      ]
    },
    {
      "cell_type": "markdown",
      "source": [
        "Nulls and Cleanup"
      ],
      "metadata": {
        "id": "PC7Ap7Buk_wY"
      }
    },
    {
      "cell_type": "code",
      "source": [
        "df_with_nulls = df_explicit.withColumn(\"Mode\", when(col(\"EmployeeID\") == \"E102\", None).otherwise(col(\"Mode\")))\n"
      ],
      "metadata": {
        "id": "8UM_Uid-k_E7"
      },
      "execution_count": 15,
      "outputs": []
    },
    {
      "cell_type": "code",
      "source": [
        "df_filled = df_with_nulls.fillna({\"Mode\": \"Not Provided\"})\n",
        "df_filled.select(\"EmployeeID\", \"Mode\").show()\n"
      ],
      "metadata": {
        "colab": {
          "base_uri": "https://localhost:8080/"
        },
        "id": "-KY758k_k_Ka",
        "outputId": "d54bf33a-9d86-496a-e23d-e1bd2dac43c6"
      },
      "execution_count": 16,
      "outputs": [
        {
          "output_type": "stream",
          "name": "stdout",
          "text": [
            "+----------+------------+\n",
            "|EmployeeID|        Mode|\n",
            "+----------+------------+\n",
            "|      E101|      Remote|\n",
            "|      E102|Not Provided|\n",
            "|      E103|      Remote|\n",
            "|      E101|      Remote|\n",
            "|      E104|      Onsite|\n",
            "|      E102|Not Provided|\n",
            "+----------+------------+\n",
            "\n"
          ]
        }
      ]
    },
    {
      "cell_type": "code",
      "source": [
        "df_filtered = df_filled.filter(col(\"WorkHours\") >= 4)\n",
        "df_filtered.show()"
      ],
      "metadata": {
        "colab": {
          "base_uri": "https://localhost:8080/"
        },
        "id": "AasKvCudk_OQ",
        "outputId": "e22ffa85-e323-4209-bba1-74f99ba3cb3c"
      },
      "execution_count": 17,
      "outputs": [
        {
          "output_type": "stream",
          "name": "stdout",
          "text": [
            "+----------+-----+----------+-------+---------+----------+---------+------------+---------+\n",
            "|EmployeeID| Name|Department|Project|WorkHours|  WorkDate| Location|        Mode|  Weekday|\n",
            "+----------+-----+----------+-------+---------+----------+---------+------------+---------+\n",
            "|      E101|Anita|        IT|  Alpha|        8|2024-05-01|Bangalore|      Remote|Wednesday|\n",
            "|      E102|  Raj|        HR|   Beta|        7|2024-05-01|   Mumbai|Not Provided|Wednesday|\n",
            "|      E103| John|   Finance|  Alpha|        5|2024-05-02|    Delhi|      Remote| Thursday|\n",
            "|      E101|Anita|        IT|  Alpha|        9|2024-05-03|Bangalore|      Remote|   Friday|\n",
            "|      E104|Meena|        IT|  Gamma|        6|2024-05-03|Hyderabad|      Onsite|   Friday|\n",
            "|      E102|  Raj|        HR|   Beta|        8|2024-05-04|   Mumbai|Not Provided| Saturday|\n",
            "+----------+-----+----------+-------+---------+----------+---------+------------+---------+\n",
            "\n"
          ]
        }
      ]
    },
    {
      "cell_type": "markdown",
      "source": [
        "Advanced Conditions"
      ],
      "metadata": {
        "id": "Sy1ui66mlJwQ"
      }
    },
    {
      "cell_type": "code",
      "source": [
        "remote_ratio = df_explicit.groupBy(\"EmployeeID\").agg(\n",
        "    (sum(when(col(\"Mode\") == \"Remote\", 1).otherwise(0)) / count(\"*\")).alias(\"RemoteRatio\")\n",
        ")\n",
        "df_flagged = df_explicit.join(remote_ratio, \"EmployeeID\")\n",
        "df_flagged = df_flagged.withColumn(\"WorkerType\", when(col(\"RemoteRatio\") > 0.8, \"Remote Worker\").otherwise(\"Mixed\"))\n",
        "df_flagged.select(\"EmployeeID\", \"RemoteRatio\", \"WorkerType\").distinct().show()\n"
      ],
      "metadata": {
        "colab": {
          "base_uri": "https://localhost:8080/"
        },
        "id": "JzfTFO9rk_Tw",
        "outputId": "5e30bd48-ca23-4abf-a219-7724c1d2383d"
      },
      "execution_count": 18,
      "outputs": [
        {
          "output_type": "stream",
          "name": "stdout",
          "text": [
            "+----------+-----------+-------------+\n",
            "|EmployeeID|RemoteRatio|   WorkerType|\n",
            "+----------+-----------+-------------+\n",
            "|      E103|        1.0|Remote Worker|\n",
            "|      E104|        0.0|        Mixed|\n",
            "|      E101|        1.0|Remote Worker|\n",
            "|      E102|        0.5|        Mixed|\n",
            "+----------+-----------+-------------+\n",
            "\n"
          ]
        }
      ]
    },
    {
      "cell_type": "code",
      "source": [
        "df_extra = df_explicit.withColumn(\"ExtraHours\", when(col(\"WorkHours\") > 8, col(\"WorkHours\") - 8).otherwise(0))\n",
        "df_extra.select(\"EmployeeID\", \"WorkHours\", \"ExtraHours\").show()\n"
      ],
      "metadata": {
        "colab": {
          "base_uri": "https://localhost:8080/"
        },
        "id": "3-aG_xA_lM9v",
        "outputId": "e7d608ca-d0ae-4ae0-e8cf-31afa6ebee1f"
      },
      "execution_count": 19,
      "outputs": [
        {
          "output_type": "stream",
          "name": "stdout",
          "text": [
            "+----------+---------+----------+\n",
            "|EmployeeID|WorkHours|ExtraHours|\n",
            "+----------+---------+----------+\n",
            "|      E101|        8|         0|\n",
            "|      E102|        7|         0|\n",
            "|      E103|        5|         0|\n",
            "|      E101|        9|         1|\n",
            "|      E104|        6|         0|\n",
            "|      E102|        8|         0|\n",
            "+----------+---------+----------+\n",
            "\n"
          ]
        }
      ]
    },
    {
      "cell_type": "markdown",
      "source": [
        "Union + Duplicate Handling"
      ],
      "metadata": {
        "id": "B-eNV53rlRr1"
      }
    },
    {
      "cell_type": "code",
      "source": [
        "from pyspark.sql.functions import lit\n",
        "intern_data = [\n",
        "    (\"E200\", \"Tina\", \"IT\", \"Alpha\", 4, \"2024-05-05\", \"Chennai\", \"Remote\")\n",
        "]\n",
        "intern_schema = [\"EmployeeID\", \"Name\", \"Department\", \"Project\", \"WorkHours\", \"WorkDate\", \"Location\", \"Mode\"]\n",
        "intern_df = spark.createDataFrame(intern_data, intern_schema).withColumn(\"WorkDate\", to_date(\"WorkDate\"))\n",
        "intern_df = intern_df.withColumn(\"Weekday\", date_format(\"WorkDate\", \"EEEE\"))\n",
        "df_combined = df_explicit.unionByName(intern_df)\n",
        "df_combined.show()\n"
      ],
      "metadata": {
        "colab": {
          "base_uri": "https://localhost:8080/"
        },
        "id": "m0cAyBa7lNEx",
        "outputId": "fd71dcfb-6b5e-4178-bf03-94e8c7434573"
      },
      "execution_count": 21,
      "outputs": [
        {
          "output_type": "stream",
          "name": "stdout",
          "text": [
            "+----------+-----+----------+-------+---------+----------+---------+------+---------+\n",
            "|EmployeeID| Name|Department|Project|WorkHours|  WorkDate| Location|  Mode|  Weekday|\n",
            "+----------+-----+----------+-------+---------+----------+---------+------+---------+\n",
            "|      E101|Anita|        IT|  Alpha|        8|2024-05-01|Bangalore|Remote|Wednesday|\n",
            "|      E102|  Raj|        HR|   Beta|        7|2024-05-01|   Mumbai|Onsite|Wednesday|\n",
            "|      E103| John|   Finance|  Alpha|        5|2024-05-02|    Delhi|Remote| Thursday|\n",
            "|      E101|Anita|        IT|  Alpha|        9|2024-05-03|Bangalore|Remote|   Friday|\n",
            "|      E104|Meena|        IT|  Gamma|        6|2024-05-03|Hyderabad|Onsite|   Friday|\n",
            "|      E102|  Raj|        HR|   Beta|        8|2024-05-04|   Mumbai|Remote| Saturday|\n",
            "|      E200| Tina|        IT|  Alpha|        4|2024-05-05|  Chennai|Remote|   Sunday|\n",
            "+----------+-----+----------+-------+---------+----------+---------+------+---------+\n",
            "\n"
          ]
        }
      ]
    }
  ]
}