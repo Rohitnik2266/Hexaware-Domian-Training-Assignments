{
  "nbformat": 4,
  "nbformat_minor": 0,
  "metadata": {
    "colab": {
      "provenance": []
    },
    "kernelspec": {
      "name": "python3",
      "display_name": "Python 3"
    },
    "language_info": {
      "name": "python"
    }
  },
  "cells": [
    {
      "cell_type": "code",
      "execution_count": 1,
      "metadata": {
        "colab": {
          "base_uri": "https://localhost:8080/"
        },
        "id": "wiXko6Cwb2w_",
        "outputId": "f222f8fd-67bd-47f9-d74b-bd42ff634f4c"
      },
      "outputs": [
        {
          "output_type": "stream",
          "name": "stdout",
          "text": [
            "root\n",
            " |-- TransactionID: string (nullable = true)\n",
            " |-- Customer: string (nullable = true)\n",
            " |-- City: string (nullable = true)\n",
            " |-- Product: string (nullable = true)\n",
            " |-- Category: string (nullable = true)\n",
            " |-- Quantity: integer (nullable = true)\n",
            " |-- UnitPrice: integer (nullable = true)\n",
            " |-- TotalPrice: integer (nullable = true)\n",
            " |-- TransactionDate: date (nullable = true)\n",
            " |-- PaymentMode: string (nullable = true)\n",
            "\n"
          ]
        }
      ],
      "source": [
        "from pyspark.sql import SparkSession\n",
        "from pyspark.sql.functions import *\n",
        "from pyspark.sql.types import *\n",
        "from pyspark.sql.window import Window\n",
        "spark = SparkSession.builder.appName(\"RetailTransactions\").getOrCreate()\n",
        "df = spark.read.option(\"header\", True).option(\"inferSchema\", True).csv(\"retail_data.csv\")\n",
        "df.printSchema()"
      ]
    },
    {
      "cell_type": "markdown",
      "source": [],
      "metadata": {
        "id": "VGrsG_mcf-Kt"
      }
    },
    {
      "cell_type": "code",
      "source": [
        "df_raw = spark.read.option(\"header\", True).option(\"inferSchema\", False).csv(\"retail_data.csv\")\n",
        "df_casted = df_raw.select(\n",
        "    col(\"TransactionID\"),\n",
        "    col(\"Customer\"),\n",
        "    col(\"City\"),\n",
        "    col(\"Product\"),\n",
        "    col(\"Category\"),\n",
        "    col(\"Quantity\").cast(\"int\"),\n",
        "    col(\"UnitPrice\").cast(\"int\"),\n",
        "    col(\"TotalPrice\").cast(\"int\"),\n",
        "    to_date(\"TransactionDate\", \"yyyy-MM-dd\").alias(\"TransactionDate\"),\n",
        "    col(\"PaymentMode\")\n",
        ")"
      ],
      "metadata": {
        "id": "jiL_0Cv2f7oy"
      },
      "execution_count": 3,
      "outputs": []
    },
    {
      "cell_type": "markdown",
      "source": [
        "Data Exploration & Filtering"
      ],
      "metadata": {
        "id": "6G3RsxE7gP-A"
      }
    },
    {
      "cell_type": "code",
      "source": [
        "df_casted.filter(col(\"TotalPrice\") > 40000).show()\n"
      ],
      "metadata": {
        "colab": {
          "base_uri": "https://localhost:8080/"
        },
        "id": "5y6cDxnrgHdw",
        "outputId": "86417bfd-8175-455d-c6d9-29facf941bf0"
      },
      "execution_count": 4,
      "outputs": [
        {
          "output_type": "stream",
          "name": "stdout",
          "text": [
            "+-------------+--------+---------+-------+-----------+--------+---------+----------+---------------+-----------+\n",
            "|TransactionID|Customer|     City|Product|   Category|Quantity|UnitPrice|TotalPrice|TransactionDate|PaymentMode|\n",
            "+-------------+--------+---------+-------+-----------+--------+---------+----------+---------------+-----------+\n",
            "|        T1001|     Ali|   Mumbai| Laptop|Electronics|       1|    70000|     70000|     2024-01-15|       Card|\n",
            "|        T1002|    Neha|Bangalore| Tablet|Electronics|       2|    30000|     60000|     2024-01-20|        UPI|\n",
            "|        T1005|   Karan|   Mumbai|  Phone|Electronics|       1|    50000|     50000|     2024-02-15|       Card|\n",
            "+-------------+--------+---------+-------+-----------+--------+---------+----------+---------------+-----------+\n",
            "\n"
          ]
        }
      ]
    },
    {
      "cell_type": "code",
      "source": [
        "df_casted.select(\"City\").distinct().show()"
      ],
      "metadata": {
        "colab": {
          "base_uri": "https://localhost:8080/"
        },
        "id": "SdbkpGT4gHhr",
        "outputId": "481d1e50-a124-4216-9ccb-de467bf8700e"
      },
      "execution_count": 5,
      "outputs": [
        {
          "output_type": "stream",
          "name": "stdout",
          "text": [
            "+---------+\n",
            "|     City|\n",
            "+---------+\n",
            "|Bangalore|\n",
            "|   Mumbai|\n",
            "|    Delhi|\n",
            "|Hyderabad|\n",
            "+---------+\n",
            "\n"
          ]
        }
      ]
    },
    {
      "cell_type": "code",
      "source": [
        "df_casted.filter(col(\"City\") == \"Delhi\").show()\n",
        "df_casted.where(col(\"City\") == \"Delhi\").show()"
      ],
      "metadata": {
        "colab": {
          "base_uri": "https://localhost:8080/"
        },
        "id": "nU46n9BCgHrD",
        "outputId": "fca8696f-8cd5-4178-f0b6-64e17a566e6d"
      },
      "execution_count": 6,
      "outputs": [
        {
          "output_type": "stream",
          "name": "stdout",
          "text": [
            "+-------------+--------+-----+-------+-----------+--------+---------+----------+---------------+-----------+\n",
            "|TransactionID|Customer| City|Product|   Category|Quantity|UnitPrice|TotalPrice|TransactionDate|PaymentMode|\n",
            "+-------------+--------+-----+-------+-----------+--------+---------+----------+---------------+-----------+\n",
            "|        T1004|    Zoya|Delhi|  Chair|  Furniture|       4|     5000|     20000|     2024-02-12|       Card|\n",
            "|        T1006|   Farah|Delhi|  Mouse|Electronics|       3|     1000|      3000|     2024-02-18|       Cash|\n",
            "+-------------+--------+-----+-------+-----------+--------+---------+----------+---------------+-----------+\n",
            "\n",
            "+-------------+--------+-----+-------+-----------+--------+---------+----------+---------------+-----------+\n",
            "|TransactionID|Customer| City|Product|   Category|Quantity|UnitPrice|TotalPrice|TransactionDate|PaymentMode|\n",
            "+-------------+--------+-----+-------+-----------+--------+---------+----------+---------------+-----------+\n",
            "|        T1004|    Zoya|Delhi|  Chair|  Furniture|       4|     5000|     20000|     2024-02-12|       Card|\n",
            "|        T1006|   Farah|Delhi|  Mouse|Electronics|       3|     1000|      3000|     2024-02-18|       Cash|\n",
            "+-------------+--------+-----+-------+-----------+--------+---------+----------+---------------+-----------+\n",
            "\n"
          ]
        }
      ]
    },
    {
      "cell_type": "markdown",
      "source": [
        "Data Manipulation"
      ],
      "metadata": {
        "id": "FUzKYOxAgawI"
      }
    },
    {
      "cell_type": "code",
      "source": [
        "df_discounted = df_casted.withColumn(\"DiscountedPrice\", col(\"TotalPrice\") * 0.9)\n",
        "df_discounted.show()"
      ],
      "metadata": {
        "colab": {
          "base_uri": "https://localhost:8080/"
        },
        "id": "JGnJAXNQgc9P",
        "outputId": "ec0310d6-eeea-4417-d6c7-b8ce45ea4858"
      },
      "execution_count": 7,
      "outputs": [
        {
          "output_type": "stream",
          "name": "stdout",
          "text": [
            "+-------------+--------+---------+-------+-----------+--------+---------+----------+---------------+-----------+---------------+\n",
            "|TransactionID|Customer|     City|Product|   Category|Quantity|UnitPrice|TotalPrice|TransactionDate|PaymentMode|DiscountedPrice|\n",
            "+-------------+--------+---------+-------+-----------+--------+---------+----------+---------------+-----------+---------------+\n",
            "|        T1001|     Ali|   Mumbai| Laptop|Electronics|       1|    70000|     70000|     2024-01-15|       Card|        63000.0|\n",
            "|        T1002|    Neha|Bangalore| Tablet|Electronics|       2|    30000|     60000|     2024-01-20|        UPI|        54000.0|\n",
            "|        T1003|    Ravi|Hyderabad|   Desk|  Furniture|       1|    15000|     15000|     2024-02-10|Net Banking|        13500.0|\n",
            "|        T1004|    Zoya|    Delhi|  Chair|  Furniture|       4|     5000|     20000|     2024-02-12|       Card|        18000.0|\n",
            "|        T1005|   Karan|   Mumbai|  Phone|Electronics|       1|    50000|     50000|     2024-02-15|       Card|        45000.0|\n",
            "|        T1006|   Farah|    Delhi|  Mouse|Electronics|       3|     1000|      3000|     2024-02-18|       Cash|         2700.0|\n",
            "+-------------+--------+---------+-------+-----------+--------+---------+----------+---------------+-----------+---------------+\n",
            "\n"
          ]
        }
      ]
    },
    {
      "cell_type": "code",
      "source": [
        "df_renamed = df_discounted.withColumnRenamed(\"TransactionDate\", \"TxnDate\")\n"
      ],
      "metadata": {
        "id": "WYkh6MXogdRC"
      },
      "execution_count": 8,
      "outputs": []
    },
    {
      "cell_type": "code",
      "source": [
        "df_dropped = df_renamed.drop(\"UnitPrice\")"
      ],
      "metadata": {
        "id": "Zw4BrPpkgdIc"
      },
      "execution_count": 9,
      "outputs": []
    },
    {
      "cell_type": "markdown",
      "source": [
        "Aggregations"
      ],
      "metadata": {
        "id": "4ncOVCuOgroz"
      }
    },
    {
      "cell_type": "code",
      "source": [
        "df_dropped.groupBy(\"City\").agg(sum(\"TotalPrice\").alias(\"TotalSales\")).show()\n"
      ],
      "metadata": {
        "colab": {
          "base_uri": "https://localhost:8080/"
        },
        "id": "SjzcYcbEgdDP",
        "outputId": "c415e545-a63d-4ea0-dd2f-da0eb7988e28"
      },
      "execution_count": 10,
      "outputs": [
        {
          "output_type": "stream",
          "name": "stdout",
          "text": [
            "+---------+----------+\n",
            "|     City|TotalSales|\n",
            "+---------+----------+\n",
            "|Bangalore|     60000|\n",
            "|   Mumbai|    120000|\n",
            "|    Delhi|     23000|\n",
            "|Hyderabad|     15000|\n",
            "+---------+----------+\n",
            "\n"
          ]
        }
      ]
    },
    {
      "cell_type": "code",
      "source": [
        "df_casted.groupBy(\"Category\").agg(avg(\"UnitPrice\").alias(\"AvgUnitPrice\")).show()\n"
      ],
      "metadata": {
        "colab": {
          "base_uri": "https://localhost:8080/"
        },
        "id": "IfH56iqMg_1K",
        "outputId": "4bd468ca-0ac2-4a15-d155-9659aaa61a1b"
      },
      "execution_count": 11,
      "outputs": [
        {
          "output_type": "stream",
          "name": "stdout",
          "text": [
            "+-----------+------------+\n",
            "|   Category|AvgUnitPrice|\n",
            "+-----------+------------+\n",
            "|Electronics|     37750.0|\n",
            "|  Furniture|     10000.0|\n",
            "+-----------+------------+\n",
            "\n"
          ]
        }
      ]
    },
    {
      "cell_type": "code",
      "source": [
        "df_casted.groupBy(\"PaymentMode\").count().show()\n"
      ],
      "metadata": {
        "colab": {
          "base_uri": "https://localhost:8080/"
        },
        "id": "idOlCKvHhLP2",
        "outputId": "d44e775f-111f-48bf-95de-4fdba55529fa"
      },
      "execution_count": 12,
      "outputs": [
        {
          "output_type": "stream",
          "name": "stdout",
          "text": [
            "+-----------+-----+\n",
            "|PaymentMode|count|\n",
            "+-----------+-----+\n",
            "|Net Banking|    1|\n",
            "|       Card|    3|\n",
            "|       Cash|    1|\n",
            "|        UPI|    1|\n",
            "+-----------+-----+\n",
            "\n"
          ]
        }
      ]
    },
    {
      "cell_type": "markdown",
      "source": [
        "Window Functions"
      ],
      "metadata": {
        "id": "oUh6y01phN92"
      }
    },
    {
      "cell_type": "code",
      "source": [
        "windowSpec = Window.partitionBy(\"City\").orderBy(col(\"TotalPrice\").desc())\n",
        "df_ranked = df_casted.withColumn(\"Rank\", rank().over(windowSpec))\n",
        "df_ranked.select(\"TransactionID\", \"City\", \"TotalPrice\", \"Rank\").show()"
      ],
      "metadata": {
        "colab": {
          "base_uri": "https://localhost:8080/"
        },
        "id": "MCwETnNJhLLc",
        "outputId": "84647d29-b52b-4bca-e560-5aa94e71d4c4"
      },
      "execution_count": 13,
      "outputs": [
        {
          "output_type": "stream",
          "name": "stdout",
          "text": [
            "+-------------+---------+----------+----+\n",
            "|TransactionID|     City|TotalPrice|Rank|\n",
            "+-------------+---------+----------+----+\n",
            "|        T1002|Bangalore|     60000|   1|\n",
            "|        T1004|    Delhi|     20000|   1|\n",
            "|        T1006|    Delhi|      3000|   2|\n",
            "|        T1003|Hyderabad|     15000|   1|\n",
            "|        T1001|   Mumbai|     70000|   1|\n",
            "|        T1005|   Mumbai|     50000|   2|\n",
            "+-------------+---------+----------+----+\n",
            "\n"
          ]
        }
      ]
    },
    {
      "cell_type": "code",
      "source": [
        "df_lagged = df_casted.withColumn(\"PrevPrice\", lag(\"TotalPrice\").over(windowSpec))\n",
        "df_lagged.select(\"TransactionID\", \"City\", \"TotalPrice\", \"PrevPrice\").show()\n"
      ],
      "metadata": {
        "colab": {
          "base_uri": "https://localhost:8080/"
        },
        "id": "L7yK53D2hLHy",
        "outputId": "566f730e-2ab7-41f5-b5d6-c802967b160d"
      },
      "execution_count": 14,
      "outputs": [
        {
          "output_type": "stream",
          "name": "stdout",
          "text": [
            "+-------------+---------+----------+---------+\n",
            "|TransactionID|     City|TotalPrice|PrevPrice|\n",
            "+-------------+---------+----------+---------+\n",
            "|        T1002|Bangalore|     60000|     NULL|\n",
            "|        T1004|    Delhi|     20000|     NULL|\n",
            "|        T1006|    Delhi|      3000|    20000|\n",
            "|        T1003|Hyderabad|     15000|     NULL|\n",
            "|        T1001|   Mumbai|     70000|     NULL|\n",
            "|        T1005|   Mumbai|     50000|    70000|\n",
            "+-------------+---------+----------+---------+\n",
            "\n"
          ]
        }
      ]
    },
    {
      "cell_type": "markdown",
      "source": [
        "Joins"
      ],
      "metadata": {
        "id": "z_j0GsNMhXoC"
      }
    },
    {
      "cell_type": "code",
      "source": [
        "region_data = [\n",
        "    (\"Mumbai\", \"West\"),\n",
        "    (\"Delhi\", \"North\"),\n",
        "    (\"Bangalore\", \"South\"),\n",
        "    (\"Hyderabad\", \"South\")\n",
        "]\n",
        "region_df = spark.createDataFrame(region_data, [\"City\", \"Region\"])\n"
      ],
      "metadata": {
        "id": "xa7SZR4khLEK"
      },
      "execution_count": 15,
      "outputs": []
    },
    {
      "cell_type": "code",
      "source": [
        "joined_df = df_casted.join(region_df, on=\"City\", how=\"left\")\n",
        "joined_df.groupBy(\"Region\").agg(sum(\"TotalPrice\").alias(\"RegionSales\")).show()\n"
      ],
      "metadata": {
        "colab": {
          "base_uri": "https://localhost:8080/"
        },
        "id": "KN9px5fqhK9I",
        "outputId": "fca773b4-a281-4e63-da20-084f70916832"
      },
      "execution_count": 16,
      "outputs": [
        {
          "output_type": "stream",
          "name": "stdout",
          "text": [
            "+------+-----------+\n",
            "|Region|RegionSales|\n",
            "+------+-----------+\n",
            "| South|      75000|\n",
            "|  West|     120000|\n",
            "| North|      23000|\n",
            "+------+-----------+\n",
            "\n"
          ]
        }
      ]
    },
    {
      "cell_type": "markdown",
      "source": [
        "Nulls and Data Cleaning"
      ],
      "metadata": {
        "id": "khoH_ZwFhiu-"
      }
    },
    {
      "cell_type": "code",
      "source": [
        "df_null = df_casted.withColumn(\"Quantity\", when(col(\"TransactionID\") == \"T1003\", None).otherwise(col(\"Quantity\")))\n",
        "df_filled = df_null.fillna({\"Quantity\": 1})\n",
        "df_filled.show()"
      ],
      "metadata": {
        "colab": {
          "base_uri": "https://localhost:8080/"
        },
        "id": "B3eJqh0ihjSr",
        "outputId": "eff7df47-4f9f-48d0-88be-7169f554bd57"
      },
      "execution_count": 17,
      "outputs": [
        {
          "output_type": "stream",
          "name": "stdout",
          "text": [
            "+-------------+--------+---------+-------+-----------+--------+---------+----------+---------------+-----------+\n",
            "|TransactionID|Customer|     City|Product|   Category|Quantity|UnitPrice|TotalPrice|TransactionDate|PaymentMode|\n",
            "+-------------+--------+---------+-------+-----------+--------+---------+----------+---------------+-----------+\n",
            "|        T1001|     Ali|   Mumbai| Laptop|Electronics|       1|    70000|     70000|     2024-01-15|       Card|\n",
            "|        T1002|    Neha|Bangalore| Tablet|Electronics|       2|    30000|     60000|     2024-01-20|        UPI|\n",
            "|        T1003|    Ravi|Hyderabad|   Desk|  Furniture|       1|    15000|     15000|     2024-02-10|Net Banking|\n",
            "|        T1004|    Zoya|    Delhi|  Chair|  Furniture|       4|     5000|     20000|     2024-02-12|       Card|\n",
            "|        T1005|   Karan|   Mumbai|  Phone|Electronics|       1|    50000|     50000|     2024-02-15|       Card|\n",
            "|        T1006|   Farah|    Delhi|  Mouse|Electronics|       3|     1000|      3000|     2024-02-18|       Cash|\n",
            "+-------------+--------+---------+-------+-----------+--------+---------+----------+---------------+-----------+\n",
            "\n"
          ]
        }
      ]
    },
    {
      "cell_type": "code",
      "source": [
        "df_dropped_nulls = df_null.dropna(subset=[\"Quantity\"])\n",
        "df_dropped_nulls.show()"
      ],
      "metadata": {
        "colab": {
          "base_uri": "https://localhost:8080/"
        },
        "id": "xH-3ZmPNhj47",
        "outputId": "f38e6cbe-ad12-4e96-cb59-a6cfeb0a2cfa"
      },
      "execution_count": 18,
      "outputs": [
        {
          "output_type": "stream",
          "name": "stdout",
          "text": [
            "+-------------+--------+---------+-------+-----------+--------+---------+----------+---------------+-----------+\n",
            "|TransactionID|Customer|     City|Product|   Category|Quantity|UnitPrice|TotalPrice|TransactionDate|PaymentMode|\n",
            "+-------------+--------+---------+-------+-----------+--------+---------+----------+---------------+-----------+\n",
            "|        T1001|     Ali|   Mumbai| Laptop|Electronics|       1|    70000|     70000|     2024-01-15|       Card|\n",
            "|        T1002|    Neha|Bangalore| Tablet|Electronics|       2|    30000|     60000|     2024-01-20|        UPI|\n",
            "|        T1004|    Zoya|    Delhi|  Chair|  Furniture|       4|     5000|     20000|     2024-02-12|       Card|\n",
            "|        T1005|   Karan|   Mumbai|  Phone|Electronics|       1|    50000|     50000|     2024-02-15|       Card|\n",
            "|        T1006|   Farah|    Delhi|  Mouse|Electronics|       3|     1000|      3000|     2024-02-18|       Cash|\n",
            "+-------------+--------+---------+-------+-----------+--------+---------+----------+---------------+-----------+\n",
            "\n"
          ]
        }
      ]
    },
    {
      "cell_type": "code",
      "source": [
        "df_null_payment = df_casted.withColumn(\"PaymentMode\", when(col(\"TransactionID\") == \"T1005\", None).otherwise(col(\"PaymentMode\")))\n",
        "df_filled_payment = df_null_payment.fillna({\"PaymentMode\": \"Unknown\"})\n",
        "df_filled_payment.show()"
      ],
      "metadata": {
        "colab": {
          "base_uri": "https://localhost:8080/"
        },
        "id": "gKsNkVj5hjxJ",
        "outputId": "50693979-4306-4c8a-a159-0e09e6c9505a"
      },
      "execution_count": 19,
      "outputs": [
        {
          "output_type": "stream",
          "name": "stdout",
          "text": [
            "+-------------+--------+---------+-------+-----------+--------+---------+----------+---------------+-----------+\n",
            "|TransactionID|Customer|     City|Product|   Category|Quantity|UnitPrice|TotalPrice|TransactionDate|PaymentMode|\n",
            "+-------------+--------+---------+-------+-----------+--------+---------+----------+---------------+-----------+\n",
            "|        T1001|     Ali|   Mumbai| Laptop|Electronics|       1|    70000|     70000|     2024-01-15|       Card|\n",
            "|        T1002|    Neha|Bangalore| Tablet|Electronics|       2|    30000|     60000|     2024-01-20|        UPI|\n",
            "|        T1003|    Ravi|Hyderabad|   Desk|  Furniture|       1|    15000|     15000|     2024-02-10|Net Banking|\n",
            "|        T1004|    Zoya|    Delhi|  Chair|  Furniture|       4|     5000|     20000|     2024-02-12|       Card|\n",
            "|        T1005|   Karan|   Mumbai|  Phone|Electronics|       1|    50000|     50000|     2024-02-15|    Unknown|\n",
            "|        T1006|   Farah|    Delhi|  Mouse|Electronics|       3|     1000|      3000|     2024-02-18|       Cash|\n",
            "+-------------+--------+---------+-------+-----------+--------+---------+----------+---------------+-----------+\n",
            "\n"
          ]
        }
      ]
    },
    {
      "cell_type": "markdown",
      "source": [
        "Custom Functions"
      ],
      "metadata": {
        "id": "8nTU_mF8htQq"
      }
    },
    {
      "cell_type": "code",
      "source": [
        "from pyspark.sql.functions import udf\n",
        "\n",
        "def label_order(amount):\n",
        "    if amount > 50000:\n",
        "        return \"High\"\n",
        "    elif amount >= 30000:\n",
        "        return \"Medium\"\n",
        "    else:\n",
        "        return \"Low\"\n",
        "\n",
        "label_udf = udf(label_order, StringType())\n",
        "df_labeled = df_casted.withColumn(\"OrderLabel\", label_udf(col(\"TotalPrice\")))\n",
        "df_labeled.select(\"TransactionID\", \"TotalPrice\", \"OrderLabel\").show()"
      ],
      "metadata": {
        "colab": {
          "base_uri": "https://localhost:8080/"
        },
        "id": "CvHpuuE6hjoh",
        "outputId": "3794ad45-c9d2-4dea-8f7b-9e5ea06f7fc0"
      },
      "execution_count": 20,
      "outputs": [
        {
          "output_type": "stream",
          "name": "stdout",
          "text": [
            "+-------------+----------+----------+\n",
            "|TransactionID|TotalPrice|OrderLabel|\n",
            "+-------------+----------+----------+\n",
            "|        T1001|     70000|      High|\n",
            "|        T1002|     60000|      High|\n",
            "|        T1003|     15000|       Low|\n",
            "|        T1004|     20000|       Low|\n",
            "|        T1005|     50000|    Medium|\n",
            "|        T1006|      3000|       Low|\n",
            "+-------------+----------+----------+\n",
            "\n"
          ]
        }
      ]
    },
    {
      "cell_type": "markdown",
      "source": [
        "Date & Time"
      ],
      "metadata": {
        "id": "ATMRnbnBiBiD"
      }
    },
    {
      "cell_type": "code",
      "source": [
        "df_date_parts = df_casted.withColumn(\"Year\", year(\"TransactionDate\")) \\\n",
        "                         .withColumn(\"Month\", month(\"TransactionDate\")) \\\n",
        "                         .withColumn(\"Day\", dayofmonth(\"TransactionDate\"))\n",
        "df_date_parts.select(\"TransactionID\", \"Year\", \"Month\", \"Day\").show()\n"
      ],
      "metadata": {
        "colab": {
          "base_uri": "https://localhost:8080/"
        },
        "id": "0bZxglAVh_lT",
        "outputId": "16df0dad-8b34-4fb9-de8b-b6a2f55a5297"
      },
      "execution_count": 21,
      "outputs": [
        {
          "output_type": "stream",
          "name": "stdout",
          "text": [
            "+-------------+----+-----+---+\n",
            "|TransactionID|Year|Month|Day|\n",
            "+-------------+----+-----+---+\n",
            "|        T1001|2024|    1| 15|\n",
            "|        T1002|2024|    1| 20|\n",
            "|        T1003|2024|    2| 10|\n",
            "|        T1004|2024|    2| 12|\n",
            "|        T1005|2024|    2| 15|\n",
            "|        T1006|2024|    2| 18|\n",
            "+-------------+----+-----+---+\n",
            "\n"
          ]
        }
      ]
    },
    {
      "cell_type": "code",
      "source": [
        "df_feb = df_date_parts.filter(month(\"TransactionDate\") == 2)\n",
        "df_feb.show()"
      ],
      "metadata": {
        "colab": {
          "base_uri": "https://localhost:8080/"
        },
        "id": "BhQdleKth_aG",
        "outputId": "167a0b2f-52ee-470d-a660-0ec701da4f3f"
      },
      "execution_count": 22,
      "outputs": [
        {
          "output_type": "stream",
          "name": "stdout",
          "text": [
            "+-------------+--------+---------+-------+-----------+--------+---------+----------+---------------+-----------+----+-----+---+\n",
            "|TransactionID|Customer|     City|Product|   Category|Quantity|UnitPrice|TotalPrice|TransactionDate|PaymentMode|Year|Month|Day|\n",
            "+-------------+--------+---------+-------+-----------+--------+---------+----------+---------------+-----------+----+-----+---+\n",
            "|        T1003|    Ravi|Hyderabad|   Desk|  Furniture|       1|    15000|     15000|     2024-02-10|Net Banking|2024|    2| 10|\n",
            "|        T1004|    Zoya|    Delhi|  Chair|  Furniture|       4|     5000|     20000|     2024-02-12|       Card|2024|    2| 12|\n",
            "|        T1005|   Karan|   Mumbai|  Phone|Electronics|       1|    50000|     50000|     2024-02-15|       Card|2024|    2| 15|\n",
            "|        T1006|   Farah|    Delhi|  Mouse|Electronics|       3|     1000|      3000|     2024-02-18|       Cash|2024|    2| 18|\n",
            "+-------------+--------+---------+-------+-----------+--------+---------+----------+---------------+-----------+----+-----+---+\n",
            "\n"
          ]
        }
      ]
    },
    {
      "cell_type": "markdown",
      "source": [
        "Union & Duplicate Handling"
      ],
      "metadata": {
        "id": "sO7pz3IxiJ1W"
      }
    },
    {
      "cell_type": "code",
      "source": [
        "df_union = df_casted.union(df_casted)\n",
        "df_deduped = df_union.dropDuplicates()\n",
        "print(\"Original count:\", df_casted.count())\n",
        "print(\"After union:\", df_union.count())\n",
        "print(\"After deduplication:\", df_deduped.count())"
      ],
      "metadata": {
        "colab": {
          "base_uri": "https://localhost:8080/"
        },
        "id": "RGN3mlaIiKgR",
        "outputId": "6a3e4104-7006-4822-d9c8-ac2bb88ce525"
      },
      "execution_count": 23,
      "outputs": [
        {
          "output_type": "stream",
          "name": "stdout",
          "text": [
            "Original count: 6\n",
            "After union: 12\n",
            "After deduplication: 6\n"
          ]
        }
      ]
    }
  ]
}