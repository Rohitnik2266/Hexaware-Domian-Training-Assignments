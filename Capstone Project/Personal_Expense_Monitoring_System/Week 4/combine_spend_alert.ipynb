{
 "cells": [
  {
   "cell_type": "code",
   "execution_count": 0,
   "metadata": {
    "application/vnd.databricks.v1+cell": {
     "cellMetadata": {
      "byteLimit": 2048000,
      "rowLimit": 10000
     },
     "inputWidgets": {},
     "nuid": "ab69da16-c008-4fc8-8975-0879c37579eb",
     "showTitle": false,
     "tableResultSettingsMap": {},
     "title": ""
    }
   },
   "outputs": [
    {
     "output_type": "execute_result",
     "data": {
      "text/html": [
       "\n",
       "            <div>\n",
       "                <p><b>SparkSession - hive</b></p>\n",
       "                \n",
       "        <div>\n",
       "            <p><b>SparkContext</b></p>\n",
       "\n",
       "            <p><a href=\"/?o=2342854597430550#setting/sparkui/0612-123310-2108yh11/driver-8349050147160552209\">Spark UI</a></p>\n",
       "\n",
       "            <dl>\n",
       "              <dt>Version</dt>\n",
       "                <dd><code>v3.5.0</code></dd>\n",
       "              <dt>Master</dt>\n",
       "                <dd><code>local[*, 4]</code></dd>\n",
       "              <dt>AppName</dt>\n",
       "                <dd><code>Databricks Shell</code></dd>\n",
       "            </dl>\n",
       "        </div>\n",
       "        \n",
       "            </div>\n",
       "        "
      ],
      "text/plain": [
       "<pyspark.sql.session.SparkSession at 0x7a1a02275610>"
      ]
     },
     "execution_count": 21,
     "metadata": {},
     "output_type": "execute_result"
    }
   ],
   "source": [
    "from pyspark.sql import SparkSession\n",
    "from pyspark.sql.functions import *\n",
    "import pandas as pd\n",
    "\n",
    "spark = SparkSession.builder.appName(\"Upload&Combine\").getOrCreate()\n",
    "spark"
   ]
  },
  {
   "cell_type": "code",
   "execution_count": 0,
   "metadata": {
    "application/vnd.databricks.v1+cell": {
     "cellMetadata": {
      "byteLimit": 2048000,
      "rowLimit": 10000
     },
     "inputWidgets": {},
     "nuid": "4e435ff0-12a1-4d45-9275-3bb820b22d52",
     "showTitle": false,
     "tableResultSettingsMap": {},
     "title": ""
    }
   },
   "outputs": [
    {
     "output_type": "display_data",
     "data": {
      "text/html": [
       "<style scoped>\n",
       "  .table-result-container {\n",
       "    max-height: 300px;\n",
       "    overflow: auto;\n",
       "  }\n",
       "  table, th, td {\n",
       "    border: 1px solid black;\n",
       "    border-collapse: collapse;\n",
       "  }\n",
       "  th, td {\n",
       "    padding: 5px;\n",
       "  }\n",
       "  th {\n",
       "    text-align: left;\n",
       "  }\n",
       "</style><div class='table-result-container'><table class='table-result'><thead style='background-color: white'><tr><th>_c0</th><th>UserID</th><th>ExpenseID</th><th>CategoryID</th><th>Amount</th><th>Date</th><th>Notes</th><th>Year</th><th>Month</th><th>avg_amount</th><th>stddev_amount</th><th>is_anomaly</th></tr></thead><tbody><tr><td>0</td><td>1</td><td>201</td><td>1</td><td>300.0</td><td>2025-06-01</td><td>Fruits & Veggies</td><td>2025</td><td>6</td><td>1195.0</td><td>1383.993078777948</td><td>false</td></tr><tr><td>1</td><td>1</td><td>202</td><td>3</td><td>2200.0</td><td>2025-06-02</td><td>Electricity Bill</td><td>2025</td><td>6</td><td>1195.0</td><td>1383.993078777948</td><td>false</td></tr><tr><td>2</td><td>1</td><td>203</td><td>5</td><td>500.0</td><td>2025-06-03</td><td>Food Panda</td><td>2025</td><td>6</td><td>1195.0</td><td>1383.993078777948</td><td>false</td></tr><tr><td>3</td><td>1</td><td>204</td><td>2</td><td>200.0</td><td>2025-06-04</td><td>Bus</td><td>2025</td><td>6</td><td>1195.0</td><td>1383.993078777948</td><td>false</td></tr><tr><td>4</td><td>1</td><td>205</td><td>1</td><td>700.0</td><td>2025-06-05</td><td>Monthly groceries</td><td>2025</td><td>6</td><td>1195.0</td><td>1383.993078777948</td><td>false</td></tr><tr><td>5</td><td>2</td><td>206</td><td>4</td><td>5000.0</td><td>2025-06-01</td><td>Laptop</td><td>2025</td><td>6</td><td>1424.0</td><td>1242.6975266963168</td><td>true</td></tr><tr><td>6</td><td>2</td><td>207</td><td>1</td><td>1000.0</td><td>2025-06-02</td><td>Grocery</td><td>2025</td><td>6</td><td>1424.0</td><td>1242.6975266963168</td><td>false</td></tr><tr><td>7</td><td>2</td><td>208</td><td>5</td><td>900.0</td><td>2025-06-03</td><td>Pizza night</td><td>2025</td><td>6</td><td>1424.0</td><td>1242.6975266963168</td><td>false</td></tr><tr><td>8</td><td>2</td><td>209</td><td>2</td><td>150.0</td><td>2025-06-04</td><td>Rickshaw</td><td>2025</td><td>6</td><td>1424.0</td><td>1242.6975266963168</td><td>false</td></tr><tr><td>9</td><td>2</td><td>210</td><td>3</td><td>1900.0</td><td>2025-06-05</td><td>Water Bill</td><td>2025</td><td>6</td><td>1424.0</td><td>1242.6975266963168</td><td>false</td></tr><tr><td>10</td><td>1</td><td>211</td><td>4</td><td>3200.0</td><td>2025-06-06</td><td>Shopping Spree</td><td>2025</td><td>6</td><td>1195.0</td><td>1383.993078777948</td><td>false</td></tr><tr><td>11</td><td>3</td><td>212</td><td>1</td><td>450.0</td><td>2025-06-01</td><td>Mini Mart</td><td>2025</td><td>6</td><td>1044.6666666666667</td><td>920.5810794327265</td><td>false</td></tr><tr><td>12</td><td>3</td><td>213</td><td>2</td><td>100.0</td><td>2025-06-02</td><td>Metro card</td><td>2025</td><td>6</td><td>1044.6666666666667</td><td>920.5810794327265</td><td>false</td></tr><tr><td>13</td><td>3</td><td>214</td><td>3</td><td>800.0</td><td>2025-06-03</td><td>Internet Bill</td><td>2025</td><td>6</td><td>1044.6666666666667</td><td>920.5810794327265</td><td>false</td></tr><tr><td>14</td><td>3</td><td>215</td><td>4</td><td>2200.0</td><td>2025-06-04</td><td>Footwear</td><td>2025</td><td>6</td><td>1044.6666666666667</td><td>920.5810794327265</td><td>false</td></tr><tr><td>15</td><td>3</td><td>216</td><td>5</td><td>600.0</td><td>2025-06-05</td><td>Burger King</td><td>2025</td><td>6</td><td>1044.6666666666667</td><td>920.5810794327265</td><td>false</td></tr><tr><td>16</td><td>1</td><td>217</td><td>1</td><td>900.0</td><td>2025-06-06</td><td>Big Basket</td><td>2025</td><td>6</td><td>1195.0</td><td>1383.993078777948</td><td>false</td></tr><tr><td>17</td><td>1</td><td>218</td><td>3</td><td>2050.0</td><td>2025-06-07</td><td>Gas Bill</td><td>2025</td><td>6</td><td>1195.0</td><td>1383.993078777948</td><td>false</td></tr><tr><td>18</td><td>1</td><td>219</td><td>5</td><td>450.0</td><td>2025-06-08</td><td>Snacks</td><td>2025</td><td>6</td><td>1195.0</td><td>1383.993078777948</td><td>false</td></tr><tr><td>19</td><td>1</td><td>220</td><td>2</td><td>170.0</td><td>2025-06-09</td><td>Auto fare</td><td>2025</td><td>6</td><td>1195.0</td><td>1383.993078777948</td><td>false</td></tr><tr><td>20</td><td>1</td><td>221</td><td>1</td><td>800.0</td><td>2025-06-10</td><td>Kirana store</td><td>2025</td><td>6</td><td>1195.0</td><td>1383.993078777948</td><td>false</td></tr><tr><td>21</td><td>2</td><td>222</td><td>4</td><td>2800.0</td><td>2025-06-06</td><td>Amazon order</td><td>2025</td><td>6</td><td>1424.0</td><td>1242.6975266963168</td><td>false</td></tr><tr><td>22</td><td>2</td><td>223</td><td>5</td><td>1000.0</td><td>2025-06-07</td><td>BBQ night</td><td>2025</td><td>6</td><td>1424.0</td><td>1242.6975266963168</td><td>false</td></tr><tr><td>23</td><td>2</td><td>224</td><td>2</td><td>180.0</td><td>2025-06-08</td><td>Bike petrol</td><td>2025</td><td>6</td><td>1424.0</td><td>1242.6975266963168</td><td>false</td></tr><tr><td>24</td><td>2</td><td>225</td><td>1</td><td>1200.0</td><td>2025-06-09</td><td>Reliance Fresh</td><td>2025</td><td>6</td><td>1424.0</td><td>1242.6975266963168</td><td>false</td></tr><tr><td>25</td><td>2</td><td>226</td><td>3</td><td>2100.0</td><td>2025-06-10</td><td>Light Bill</td><td>2025</td><td>6</td><td>1424.0</td><td>1242.6975266963168</td><td>false</td></tr><tr><td>26</td><td>3</td><td>227</td><td>4</td><td>2500.0</td><td>2025-06-06</td><td>Jacket Shopping</td><td>2025</td><td>6</td><td>1044.6666666666667</td><td>920.5810794327265</td><td>false</td></tr><tr><td>27</td><td>3</td><td>228</td><td>5</td><td>700.0</td><td>2025-06-07</td><td>Chinese food</td><td>2025</td><td>6</td><td>1044.6666666666667</td><td>920.5810794327265</td><td>false</td></tr><tr><td>28</td><td>3</td><td>229</td><td>2</td><td>90.0</td><td>2025-06-08</td><td>Cab fare</td><td>2025</td><td>6</td><td>1044.6666666666667</td><td>920.5810794327265</td><td>false</td></tr><tr><td>29</td><td>3</td><td>230</td><td>1</td><td>600.0</td><td>2025-06-09</td><td>Ration</td><td>2025</td><td>6</td><td>1044.6666666666667</td><td>920.5810794327265</td><td>false</td></tr><tr><td>30</td><td>3</td><td>231</td><td>3</td><td>1850.0</td><td>2025-06-10</td><td>Mobile recharge</td><td>2025</td><td>6</td><td>1044.6666666666667</td><td>920.5810794327265</td><td>false</td></tr><tr><td>31</td><td>1</td><td>232</td><td>4</td><td>4000.0</td><td>2025-06-11</td><td>TV Purchase</td><td>2025</td><td>6</td><td>1195.0</td><td>1383.993078777948</td><td>true</td></tr><tr><td>32</td><td>1</td><td>233</td><td>1</td><td>300.0</td><td>2025-06-12</td><td>Dairy</td><td>2025</td><td>6</td><td>1195.0</td><td>1383.993078777948</td><td>false</td></tr><tr><td>33</td><td>1</td><td>234</td><td>5</td><td>500.0</td><td>2025-06-13</td><td>Pastries</td><td>2025</td><td>6</td><td>1195.0</td><td>1383.993078777948</td><td>false</td></tr><tr><td>34</td><td>1</td><td>235</td><td>2</td><td>200.0</td><td>2025-06-14</td><td>Bus pass</td><td>2025</td><td>6</td><td>1195.0</td><td>1383.993078777948</td><td>false</td></tr><tr><td>35</td><td>1</td><td>236</td><td>1</td><td>650.0</td><td>2025-06-15</td><td>Vegetables</td><td>2025</td><td>6</td><td>1195.0</td><td>1383.993078777948</td><td>false</td></tr><tr><td>36</td><td>2</td><td>237</td><td>4</td><td>1500.0</td><td>2025-06-11</td><td>Flipkart</td><td>2025</td><td>6</td><td>1424.0</td><td>1242.6975266963168</td><td>false</td></tr><tr><td>37</td><td>2</td><td>238</td><td>1</td><td>950.0</td><td>2025-06-12</td><td>Kirana</td><td>2025</td><td>6</td><td>1424.0</td><td>1242.6975266963168</td><td>false</td></tr><tr><td>38</td><td>2</td><td>239</td><td>5</td><td>800.0</td><td>2025-06-13</td><td>Domino's</td><td>2025</td><td>6</td><td>1424.0</td><td>1242.6975266963168</td><td>false</td></tr><tr><td>39</td><td>2</td><td>240</td><td>2</td><td>130.0</td><td>2025-06-14</td><td>Cab</td><td>2025</td><td>6</td><td>1424.0</td><td>1242.6975266963168</td><td>false</td></tr><tr><td>40</td><td>2</td><td>241</td><td>3</td><td>1750.0</td><td>2025-06-15</td><td>Internet</td><td>2025</td><td>6</td><td>1424.0</td><td>1242.6975266963168</td><td>false</td></tr><tr><td>41</td><td>3</td><td>242</td><td>4</td><td>2700.0</td><td>2025-06-11</td><td>Watch</td><td>2025</td><td>6</td><td>1044.6666666666667</td><td>920.5810794327265</td><td>false</td></tr><tr><td>42</td><td>3</td><td>243</td><td>5</td><td>500.0</td><td>2025-06-12</td><td>Dinner</td><td>2025</td><td>6</td><td>1044.6666666666667</td><td>920.5810794327265</td><td>false</td></tr><tr><td>43</td><td>3</td><td>244</td><td>2</td><td>80.0</td><td>2025-06-13</td><td>Bike wash</td><td>2025</td><td>6</td><td>1044.6666666666667</td><td>920.5810794327265</td><td>false</td></tr><tr><td>44</td><td>3</td><td>245</td><td>1</td><td>550.0</td><td>2025-06-14</td><td>Daily Needs</td><td>2025</td><td>6</td><td>1044.6666666666667</td><td>920.5810794327265</td><td>false</td></tr><tr><td>45</td><td>3</td><td>246</td><td>3</td><td>1950.0</td><td>2025-06-15</td><td>Phone Bill</td><td>2025</td><td>6</td><td>1044.6666666666667</td><td>920.5810794327265</td><td>false</td></tr><tr><td>46</td><td>1</td><td>247</td><td>4</td><td>5000.0</td><td>2025-06-16</td><td>AC Repair</td><td>2025</td><td>6</td><td>1195.0</td><td>1383.993078777948</td><td>true</td></tr><tr><td>47</td><td>1</td><td>248</td><td>5</td><td>750.0</td><td>2025-06-17</td><td>Food court</td><td>2025</td><td>6</td><td>1195.0</td><td>1383.993078777948</td><td>false</td></tr><tr><td>48</td><td>1</td><td>249</td><td>2</td><td>180.0</td><td>2025-06-18</td><td>Cab</td><td>2025</td><td>6</td><td>1195.0</td><td>1383.993078777948</td><td>false</td></tr><tr><td>49</td><td>1</td><td>250</td><td>1</td><td>850.0</td><td>2025-06-19</td><td>Groceries</td><td>2025</td><td>6</td><td>1195.0</td><td>1383.993078777948</td><td>false</td></tr></tbody></table></div>"
      ]
     },
     "metadata": {
      "application/vnd.databricks.v1+output": {
       "addedWidgets": {},
       "aggData": [],
       "aggError": "",
       "aggOverflow": false,
       "aggSchema": [],
       "aggSeriesLimitReached": false,
       "aggType": "",
       "arguments": {},
       "columnCustomDisplayInfos": {},
       "data": [
        [
         0,
         1,
         201,
         1,
         300.0,
         "2025-06-01",
         "Fruits & Veggies",
         2025,
         6,
         1195.0,
         1383.993078777948,
         false
        ],
        [
         1,
         1,
         202,
         3,
         2200.0,
         "2025-06-02",
         "Electricity Bill",
         2025,
         6,
         1195.0,
         1383.993078777948,
         false
        ],
        [
         2,
         1,
         203,
         5,
         500.0,
         "2025-06-03",
         "Food Panda",
         2025,
         6,
         1195.0,
         1383.993078777948,
         false
        ],
        [
         3,
         1,
         204,
         2,
         200.0,
         "2025-06-04",
         "Bus",
         2025,
         6,
         1195.0,
         1383.993078777948,
         false
        ],
        [
         4,
         1,
         205,
         1,
         700.0,
         "2025-06-05",
         "Monthly groceries",
         2025,
         6,
         1195.0,
         1383.993078777948,
         false
        ],
        [
         5,
         2,
         206,
         4,
         5000.0,
         "2025-06-01",
         "Laptop",
         2025,
         6,
         1424.0,
         1242.6975266963168,
         true
        ],
        [
         6,
         2,
         207,
         1,
         1000.0,
         "2025-06-02",
         "Grocery",
         2025,
         6,
         1424.0,
         1242.6975266963168,
         false
        ],
        [
         7,
         2,
         208,
         5,
         900.0,
         "2025-06-03",
         "Pizza night",
         2025,
         6,
         1424.0,
         1242.6975266963168,
         false
        ],
        [
         8,
         2,
         209,
         2,
         150.0,
         "2025-06-04",
         "Rickshaw",
         2025,
         6,
         1424.0,
         1242.6975266963168,
         false
        ],
        [
         9,
         2,
         210,
         3,
         1900.0,
         "2025-06-05",
         "Water Bill",
         2025,
         6,
         1424.0,
         1242.6975266963168,
         false
        ],
        [
         10,
         1,
         211,
         4,
         3200.0,
         "2025-06-06",
         "Shopping Spree",
         2025,
         6,
         1195.0,
         1383.993078777948,
         false
        ],
        [
         11,
         3,
         212,
         1,
         450.0,
         "2025-06-01",
         "Mini Mart",
         2025,
         6,
         1044.6666666666667,
         920.5810794327265,
         false
        ],
        [
         12,
         3,
         213,
         2,
         100.0,
         "2025-06-02",
         "Metro card",
         2025,
         6,
         1044.6666666666667,
         920.5810794327265,
         false
        ],
        [
         13,
         3,
         214,
         3,
         800.0,
         "2025-06-03",
         "Internet Bill",
         2025,
         6,
         1044.6666666666667,
         920.5810794327265,
         false
        ],
        [
         14,
         3,
         215,
         4,
         2200.0,
         "2025-06-04",
         "Footwear",
         2025,
         6,
         1044.6666666666667,
         920.5810794327265,
         false
        ],
        [
         15,
         3,
         216,
         5,
         600.0,
         "2025-06-05",
         "Burger King",
         2025,
         6,
         1044.6666666666667,
         920.5810794327265,
         false
        ],
        [
         16,
         1,
         217,
         1,
         900.0,
         "2025-06-06",
         "Big Basket",
         2025,
         6,
         1195.0,
         1383.993078777948,
         false
        ],
        [
         17,
         1,
         218,
         3,
         2050.0,
         "2025-06-07",
         "Gas Bill",
         2025,
         6,
         1195.0,
         1383.993078777948,
         false
        ],
        [
         18,
         1,
         219,
         5,
         450.0,
         "2025-06-08",
         "Snacks",
         2025,
         6,
         1195.0,
         1383.993078777948,
         false
        ],
        [
         19,
         1,
         220,
         2,
         170.0,
         "2025-06-09",
         "Auto fare",
         2025,
         6,
         1195.0,
         1383.993078777948,
         false
        ],
        [
         20,
         1,
         221,
         1,
         800.0,
         "2025-06-10",
         "Kirana store",
         2025,
         6,
         1195.0,
         1383.993078777948,
         false
        ],
        [
         21,
         2,
         222,
         4,
         2800.0,
         "2025-06-06",
         "Amazon order",
         2025,
         6,
         1424.0,
         1242.6975266963168,
         false
        ],
        [
         22,
         2,
         223,
         5,
         1000.0,
         "2025-06-07",
         "BBQ night",
         2025,
         6,
         1424.0,
         1242.6975266963168,
         false
        ],
        [
         23,
         2,
         224,
         2,
         180.0,
         "2025-06-08",
         "Bike petrol",
         2025,
         6,
         1424.0,
         1242.6975266963168,
         false
        ],
        [
         24,
         2,
         225,
         1,
         1200.0,
         "2025-06-09",
         "Reliance Fresh",
         2025,
         6,
         1424.0,
         1242.6975266963168,
         false
        ],
        [
         25,
         2,
         226,
         3,
         2100.0,
         "2025-06-10",
         "Light Bill",
         2025,
         6,
         1424.0,
         1242.6975266963168,
         false
        ],
        [
         26,
         3,
         227,
         4,
         2500.0,
         "2025-06-06",
         "Jacket Shopping",
         2025,
         6,
         1044.6666666666667,
         920.5810794327265,
         false
        ],
        [
         27,
         3,
         228,
         5,
         700.0,
         "2025-06-07",
         "Chinese food",
         2025,
         6,
         1044.6666666666667,
         920.5810794327265,
         false
        ],
        [
         28,
         3,
         229,
         2,
         90.0,
         "2025-06-08",
         "Cab fare",
         2025,
         6,
         1044.6666666666667,
         920.5810794327265,
         false
        ],
        [
         29,
         3,
         230,
         1,
         600.0,
         "2025-06-09",
         "Ration",
         2025,
         6,
         1044.6666666666667,
         920.5810794327265,
         false
        ],
        [
         30,
         3,
         231,
         3,
         1850.0,
         "2025-06-10",
         "Mobile recharge",
         2025,
         6,
         1044.6666666666667,
         920.5810794327265,
         false
        ],
        [
         31,
         1,
         232,
         4,
         4000.0,
         "2025-06-11",
         "TV Purchase",
         2025,
         6,
         1195.0,
         1383.993078777948,
         true
        ],
        [
         32,
         1,
         233,
         1,
         300.0,
         "2025-06-12",
         "Dairy",
         2025,
         6,
         1195.0,
         1383.993078777948,
         false
        ],
        [
         33,
         1,
         234,
         5,
         500.0,
         "2025-06-13",
         "Pastries",
         2025,
         6,
         1195.0,
         1383.993078777948,
         false
        ],
        [
         34,
         1,
         235,
         2,
         200.0,
         "2025-06-14",
         "Bus pass",
         2025,
         6,
         1195.0,
         1383.993078777948,
         false
        ],
        [
         35,
         1,
         236,
         1,
         650.0,
         "2025-06-15",
         "Vegetables",
         2025,
         6,
         1195.0,
         1383.993078777948,
         false
        ],
        [
         36,
         2,
         237,
         4,
         1500.0,
         "2025-06-11",
         "Flipkart",
         2025,
         6,
         1424.0,
         1242.6975266963168,
         false
        ],
        [
         37,
         2,
         238,
         1,
         950.0,
         "2025-06-12",
         "Kirana",
         2025,
         6,
         1424.0,
         1242.6975266963168,
         false
        ],
        [
         38,
         2,
         239,
         5,
         800.0,
         "2025-06-13",
         "Domino's",
         2025,
         6,
         1424.0,
         1242.6975266963168,
         false
        ],
        [
         39,
         2,
         240,
         2,
         130.0,
         "2025-06-14",
         "Cab",
         2025,
         6,
         1424.0,
         1242.6975266963168,
         false
        ],
        [
         40,
         2,
         241,
         3,
         1750.0,
         "2025-06-15",
         "Internet",
         2025,
         6,
         1424.0,
         1242.6975266963168,
         false
        ],
        [
         41,
         3,
         242,
         4,
         2700.0,
         "2025-06-11",
         "Watch",
         2025,
         6,
         1044.6666666666667,
         920.5810794327265,
         false
        ],
        [
         42,
         3,
         243,
         5,
         500.0,
         "2025-06-12",
         "Dinner",
         2025,
         6,
         1044.6666666666667,
         920.5810794327265,
         false
        ],
        [
         43,
         3,
         244,
         2,
         80.0,
         "2025-06-13",
         "Bike wash",
         2025,
         6,
         1044.6666666666667,
         920.5810794327265,
         false
        ],
        [
         44,
         3,
         245,
         1,
         550.0,
         "2025-06-14",
         "Daily Needs",
         2025,
         6,
         1044.6666666666667,
         920.5810794327265,
         false
        ],
        [
         45,
         3,
         246,
         3,
         1950.0,
         "2025-06-15",
         "Phone Bill",
         2025,
         6,
         1044.6666666666667,
         920.5810794327265,
         false
        ],
        [
         46,
         1,
         247,
         4,
         5000.0,
         "2025-06-16",
         "AC Repair",
         2025,
         6,
         1195.0,
         1383.993078777948,
         true
        ],
        [
         47,
         1,
         248,
         5,
         750.0,
         "2025-06-17",
         "Food court",
         2025,
         6,
         1195.0,
         1383.993078777948,
         false
        ],
        [
         48,
         1,
         249,
         2,
         180.0,
         "2025-06-18",
         "Cab",
         2025,
         6,
         1195.0,
         1383.993078777948,
         false
        ],
        [
         49,
         1,
         250,
         1,
         850.0,
         "2025-06-19",
         "Groceries",
         2025,
         6,
         1195.0,
         1383.993078777948,
         false
        ]
       ],
       "datasetInfos": [],
       "dbfsResultPath": null,
       "isJsonSchema": true,
       "metadata": {},
       "overflow": false,
       "plotOptions": {
        "customPlotOptions": {},
        "displayType": "table",
        "pivotAggregation": null,
        "pivotColumns": null,
        "xColumns": null,
        "yColumns": null
       },
       "removedWidgets": [],
       "schema": [
        {
         "metadata": "{}",
         "name": "_c0",
         "type": "\"integer\""
        },
        {
         "metadata": "{}",
         "name": "UserID",
         "type": "\"integer\""
        },
        {
         "metadata": "{}",
         "name": "ExpenseID",
         "type": "\"integer\""
        },
        {
         "metadata": "{}",
         "name": "CategoryID",
         "type": "\"integer\""
        },
        {
         "metadata": "{}",
         "name": "Amount",
         "type": "\"double\""
        },
        {
         "metadata": "{\"__detected_date_formats\":\"yyyy-M-d\"}",
         "name": "Date",
         "type": "\"date\""
        },
        {
         "metadata": "{}",
         "name": "Notes",
         "type": "\"string\""
        },
        {
         "metadata": "{}",
         "name": "Year",
         "type": "\"integer\""
        },
        {
         "metadata": "{}",
         "name": "Month",
         "type": "\"integer\""
        },
        {
         "metadata": "{}",
         "name": "avg_amount",
         "type": "\"double\""
        },
        {
         "metadata": "{}",
         "name": "stddev_amount",
         "type": "\"double\""
        },
        {
         "metadata": "{}",
         "name": "is_anomaly",
         "type": "\"boolean\""
        }
       ],
       "type": "table"
      }
     },
     "output_type": "display_data"
    },
    {
     "output_type": "display_data",
     "data": {
      "text/html": [
       "<style scoped>\n",
       "  .table-result-container {\n",
       "    max-height: 300px;\n",
       "    overflow: auto;\n",
       "  }\n",
       "  table, th, td {\n",
       "    border: 1px solid black;\n",
       "    border-collapse: collapse;\n",
       "  }\n",
       "  th, td {\n",
       "    padding: 5px;\n",
       "  }\n",
       "  th {\n",
       "    text-align: left;\n",
       "  }\n",
       "</style><div class='table-result-container'><table class='table-result'><thead style='background-color: white'><tr><th>ExpenseID</th><th>UserID</th><th>CategoryID</th><th>Amount</th><th>Date</th><th>Notes</th><th>Month</th></tr></thead><tbody><tr><td>101</td><td>1</td><td>1</td><td>1200.0</td><td>2025-05-10</td><td>Big Bazaar purchase</td><td>2025-05-01</td></tr><tr><td>102</td><td>1</td><td>2</td><td>450.0</td><td>2025-05-12</td><td>Bus ticket</td><td>2025-05-01</td></tr><tr><td>103</td><td>1</td><td>3</td><td>2000.0</td><td>2025-05-15</td><td>Electricity bill</td><td>2025-05-01</td></tr><tr><td>104</td><td>2</td><td>4</td><td>3000.0</td><td>2025-05-20</td><td>Clothes at Myntra</td><td>2025-05-01</td></tr><tr><td>105</td><td>2</td><td>5</td><td>600.0</td><td>2025-05-25</td><td>Dinner at McDonald's</td><td>2025-05-01</td></tr><tr><td>106</td><td>1</td><td>1</td><td>800.0</td><td>2025-06-02</td><td>Local grocery</td><td>2025-06-01</td></tr><tr><td>107</td><td>1</td><td>3</td><td>1900.0</td><td>2025-06-05</td><td>Water bill</td><td>2025-06-01</td></tr><tr><td>108</td><td>2</td><td>2</td><td>1000.0</td><td>2025-06-08</td><td>Uber ride</td><td>2025-06-01</td></tr><tr><td>109</td><td>1</td><td>5</td><td>750.0</td><td>2025-06-10</td><td>Zomato lunch</td><td>2025-06-01</td></tr><tr><td>110</td><td>2</td><td>4</td><td>2200.0</td><td>2025-06-12</td><td>Amazon sale</td><td>2025-06-01</td></tr></tbody></table></div>"
      ]
     },
     "metadata": {
      "application/vnd.databricks.v1+output": {
       "addedWidgets": {},
       "aggData": [],
       "aggError": "",
       "aggOverflow": false,
       "aggSchema": [],
       "aggSeriesLimitReached": false,
       "aggType": "",
       "arguments": {},
       "columnCustomDisplayInfos": {},
       "data": [
        [
         101,
         1,
         1,
         1200.0,
         "2025-05-10",
         "Big Bazaar purchase",
         "2025-05-01"
        ],
        [
         102,
         1,
         2,
         450.0,
         "2025-05-12",
         "Bus ticket",
         "2025-05-01"
        ],
        [
         103,
         1,
         3,
         2000.0,
         "2025-05-15",
         "Electricity bill",
         "2025-05-01"
        ],
        [
         104,
         2,
         4,
         3000.0,
         "2025-05-20",
         "Clothes at Myntra",
         "2025-05-01"
        ],
        [
         105,
         2,
         5,
         600.0,
         "2025-05-25",
         "Dinner at McDonald's",
         "2025-05-01"
        ],
        [
         106,
         1,
         1,
         800.0,
         "2025-06-02",
         "Local grocery",
         "2025-06-01"
        ],
        [
         107,
         1,
         3,
         1900.0,
         "2025-06-05",
         "Water bill",
         "2025-06-01"
        ],
        [
         108,
         2,
         2,
         1000.0,
         "2025-06-08",
         "Uber ride",
         "2025-06-01"
        ],
        [
         109,
         1,
         5,
         750.0,
         "2025-06-10",
         "Zomato lunch",
         "2025-06-01"
        ],
        [
         110,
         2,
         4,
         2200.0,
         "2025-06-12",
         "Amazon sale",
         "2025-06-01"
        ]
       ],
       "datasetInfos": [],
       "dbfsResultPath": null,
       "isJsonSchema": true,
       "metadata": {},
       "overflow": false,
       "plotOptions": {
        "customPlotOptions": {},
        "displayType": "table",
        "pivotAggregation": null,
        "pivotColumns": null,
        "xColumns": null,
        "yColumns": null
       },
       "removedWidgets": [],
       "schema": [
        {
         "metadata": "{}",
         "name": "ExpenseID",
         "type": "\"integer\""
        },
        {
         "metadata": "{}",
         "name": "UserID",
         "type": "\"integer\""
        },
        {
         "metadata": "{}",
         "name": "CategoryID",
         "type": "\"integer\""
        },
        {
         "metadata": "{}",
         "name": "Amount",
         "type": "\"double\""
        },
        {
         "metadata": "{\"__detected_date_formats\":\"yyyy-M-d\"}",
         "name": "Date",
         "type": "\"date\""
        },
        {
         "metadata": "{}",
         "name": "Notes",
         "type": "\"string\""
        },
        {
         "metadata": "{\"__detected_date_formats\":\"yyyy-M\"}",
         "name": "Month",
         "type": "\"date\""
        }
       ],
       "type": "table"
      }
     },
     "output_type": "display_data"
    }
   ],
   "source": [
    "df_user = spark.read.csv(\"file:/Workspace/Shared/cleaned_large_expenses.csv\", header=True, inferSchema=True)\n",
    "df_expenses = spark.read.csv(\"file:/Workspace/Shared/expenses_cleaned.csv\", header=True, inferSchema=True)\n",
    "df_user.display()\n",
    "df_expenses.display()\n"
   ]
  },
  {
   "cell_type": "code",
   "execution_count": 0,
   "metadata": {
    "application/vnd.databricks.v1+cell": {
     "cellMetadata": {
      "byteLimit": 2048000,
      "rowLimit": 10000
     },
     "inputWidgets": {},
     "nuid": "a0f3c2ba-d12a-46a7-b33c-0cd8ea986ed6",
     "showTitle": false,
     "tableResultSettingsMap": {},
     "title": ""
    }
   },
   "outputs": [
    {
     "output_type": "stream",
     "name": "stdout",
     "output_type": "stream",
     "text": [
      "root\n |-- _c0: integer (nullable = true)\n |-- UserID: integer (nullable = true)\n |-- ExpenseID: integer (nullable = true)\n |-- CategoryID: integer (nullable = true)\n |-- Amount: double (nullable = true)\n |-- Date: date (nullable = true)\n |-- Notes: string (nullable = true)\n |-- Year: integer (nullable = true)\n |-- Month: integer (nullable = true)\n |-- avg_amount: double (nullable = true)\n |-- stddev_amount: double (nullable = true)\n |-- is_anomaly: boolean (nullable = true)\n\nroot\n |-- ExpenseID: integer (nullable = true)\n |-- UserID: integer (nullable = true)\n |-- CategoryID: integer (nullable = true)\n |-- Amount: double (nullable = true)\n |-- Date: date (nullable = true)\n |-- Notes: string (nullable = true)\n |-- Month: date (nullable = true)\n\n"
     ]
    }
   ],
   "source": [
    "df_user = df_user.withColumn(\"Date\", to_date(\"Date\"))\n",
    "df_expenses = df_expenses.withColumn(\"Date\", to_date(\"Date\"))\n",
    "df_user.printSchema()\n",
    "df_expenses.printSchema()"
   ]
  },
  {
   "cell_type": "markdown",
   "metadata": {
    "application/vnd.databricks.v1+cell": {
     "cellMetadata": {
      "byteLimit": 2048000,
      "rowLimit": 10000
     },
     "inputWidgets": {},
     "nuid": "21ae8d55-03fd-48e9-92e1-cae92e56fb61",
     "showTitle": false,
     "tableResultSettingsMap": {},
     "title": ""
    }
   },
   "source": [
    "Combine user and expense data"
   ]
  },
  {
   "cell_type": "code",
   "execution_count": 0,
   "metadata": {
    "application/vnd.databricks.v1+cell": {
     "cellMetadata": {
      "byteLimit": 2048000,
      "rowLimit": 10000
     },
     "inputWidgets": {},
     "nuid": "54369964-26aa-439f-b17b-77857ed8cc05",
     "showTitle": false,
     "tableResultSettingsMap": {},
     "title": ""
    }
   },
   "outputs": [
    {
     "output_type": "display_data",
     "data": {
      "text/html": [
       "<style scoped>\n",
       "  .table-result-container {\n",
       "    max-height: 300px;\n",
       "    overflow: auto;\n",
       "  }\n",
       "  table, th, td {\n",
       "    border: 1px solid black;\n",
       "    border-collapse: collapse;\n",
       "  }\n",
       "  th, td {\n",
       "    padding: 5px;\n",
       "  }\n",
       "  th {\n",
       "    text-align: left;\n",
       "  }\n",
       "</style><div class='table-result-container'><table class='table-result'><thead style='background-color: white'><tr><th>ExpenseID</th><th>UserID</th><th>CategoryID</th><th>Amount</th><th>Date</th><th>Notes</th></tr></thead><tbody><tr><td>201</td><td>1</td><td>1</td><td>300.0</td><td>2025-06-01</td><td>Fruits & Veggies</td></tr><tr><td>202</td><td>1</td><td>3</td><td>2200.0</td><td>2025-06-02</td><td>Electricity Bill</td></tr><tr><td>203</td><td>1</td><td>5</td><td>500.0</td><td>2025-06-03</td><td>Food Panda</td></tr><tr><td>204</td><td>1</td><td>2</td><td>200.0</td><td>2025-06-04</td><td>Bus</td></tr><tr><td>205</td><td>1</td><td>1</td><td>700.0</td><td>2025-06-05</td><td>Monthly groceries</td></tr><tr><td>206</td><td>2</td><td>4</td><td>5000.0</td><td>2025-06-01</td><td>Laptop</td></tr><tr><td>207</td><td>2</td><td>1</td><td>1000.0</td><td>2025-06-02</td><td>Grocery</td></tr><tr><td>208</td><td>2</td><td>5</td><td>900.0</td><td>2025-06-03</td><td>Pizza night</td></tr><tr><td>209</td><td>2</td><td>2</td><td>150.0</td><td>2025-06-04</td><td>Rickshaw</td></tr><tr><td>210</td><td>2</td><td>3</td><td>1900.0</td><td>2025-06-05</td><td>Water Bill</td></tr><tr><td>211</td><td>1</td><td>4</td><td>3200.0</td><td>2025-06-06</td><td>Shopping Spree</td></tr><tr><td>212</td><td>3</td><td>1</td><td>450.0</td><td>2025-06-01</td><td>Mini Mart</td></tr><tr><td>213</td><td>3</td><td>2</td><td>100.0</td><td>2025-06-02</td><td>Metro card</td></tr><tr><td>214</td><td>3</td><td>3</td><td>800.0</td><td>2025-06-03</td><td>Internet Bill</td></tr><tr><td>215</td><td>3</td><td>4</td><td>2200.0</td><td>2025-06-04</td><td>Footwear</td></tr><tr><td>216</td><td>3</td><td>5</td><td>600.0</td><td>2025-06-05</td><td>Burger King</td></tr><tr><td>217</td><td>1</td><td>1</td><td>900.0</td><td>2025-06-06</td><td>Big Basket</td></tr><tr><td>218</td><td>1</td><td>3</td><td>2050.0</td><td>2025-06-07</td><td>Gas Bill</td></tr><tr><td>219</td><td>1</td><td>5</td><td>450.0</td><td>2025-06-08</td><td>Snacks</td></tr><tr><td>220</td><td>1</td><td>2</td><td>170.0</td><td>2025-06-09</td><td>Auto fare</td></tr><tr><td>221</td><td>1</td><td>1</td><td>800.0</td><td>2025-06-10</td><td>Kirana store</td></tr><tr><td>222</td><td>2</td><td>4</td><td>2800.0</td><td>2025-06-06</td><td>Amazon order</td></tr><tr><td>223</td><td>2</td><td>5</td><td>1000.0</td><td>2025-06-07</td><td>BBQ night</td></tr><tr><td>224</td><td>2</td><td>2</td><td>180.0</td><td>2025-06-08</td><td>Bike petrol</td></tr><tr><td>225</td><td>2</td><td>1</td><td>1200.0</td><td>2025-06-09</td><td>Reliance Fresh</td></tr><tr><td>226</td><td>2</td><td>3</td><td>2100.0</td><td>2025-06-10</td><td>Light Bill</td></tr><tr><td>227</td><td>3</td><td>4</td><td>2500.0</td><td>2025-06-06</td><td>Jacket Shopping</td></tr><tr><td>228</td><td>3</td><td>5</td><td>700.0</td><td>2025-06-07</td><td>Chinese food</td></tr><tr><td>229</td><td>3</td><td>2</td><td>90.0</td><td>2025-06-08</td><td>Cab fare</td></tr><tr><td>230</td><td>3</td><td>1</td><td>600.0</td><td>2025-06-09</td><td>Ration</td></tr><tr><td>231</td><td>3</td><td>3</td><td>1850.0</td><td>2025-06-10</td><td>Mobile recharge</td></tr><tr><td>232</td><td>1</td><td>4</td><td>4000.0</td><td>2025-06-11</td><td>TV Purchase</td></tr><tr><td>233</td><td>1</td><td>1</td><td>300.0</td><td>2025-06-12</td><td>Dairy</td></tr><tr><td>234</td><td>1</td><td>5</td><td>500.0</td><td>2025-06-13</td><td>Pastries</td></tr><tr><td>235</td><td>1</td><td>2</td><td>200.0</td><td>2025-06-14</td><td>Bus pass</td></tr><tr><td>236</td><td>1</td><td>1</td><td>650.0</td><td>2025-06-15</td><td>Vegetables</td></tr><tr><td>237</td><td>2</td><td>4</td><td>1500.0</td><td>2025-06-11</td><td>Flipkart</td></tr><tr><td>238</td><td>2</td><td>1</td><td>950.0</td><td>2025-06-12</td><td>Kirana</td></tr><tr><td>239</td><td>2</td><td>5</td><td>800.0</td><td>2025-06-13</td><td>Domino's</td></tr><tr><td>240</td><td>2</td><td>2</td><td>130.0</td><td>2025-06-14</td><td>Cab</td></tr><tr><td>241</td><td>2</td><td>3</td><td>1750.0</td><td>2025-06-15</td><td>Internet</td></tr><tr><td>242</td><td>3</td><td>4</td><td>2700.0</td><td>2025-06-11</td><td>Watch</td></tr><tr><td>243</td><td>3</td><td>5</td><td>500.0</td><td>2025-06-12</td><td>Dinner</td></tr><tr><td>244</td><td>3</td><td>2</td><td>80.0</td><td>2025-06-13</td><td>Bike wash</td></tr><tr><td>245</td><td>3</td><td>1</td><td>550.0</td><td>2025-06-14</td><td>Daily Needs</td></tr><tr><td>246</td><td>3</td><td>3</td><td>1950.0</td><td>2025-06-15</td><td>Phone Bill</td></tr><tr><td>247</td><td>1</td><td>4</td><td>5000.0</td><td>2025-06-16</td><td>AC Repair</td></tr><tr><td>248</td><td>1</td><td>5</td><td>750.0</td><td>2025-06-17</td><td>Food court</td></tr><tr><td>249</td><td>1</td><td>2</td><td>180.0</td><td>2025-06-18</td><td>Cab</td></tr><tr><td>250</td><td>1</td><td>1</td><td>850.0</td><td>2025-06-19</td><td>Groceries</td></tr><tr><td>101</td><td>1</td><td>1</td><td>1200.0</td><td>2025-05-10</td><td>Big Bazaar purchase</td></tr><tr><td>102</td><td>1</td><td>2</td><td>450.0</td><td>2025-05-12</td><td>Bus ticket</td></tr><tr><td>103</td><td>1</td><td>3</td><td>2000.0</td><td>2025-05-15</td><td>Electricity bill</td></tr><tr><td>104</td><td>2</td><td>4</td><td>3000.0</td><td>2025-05-20</td><td>Clothes at Myntra</td></tr><tr><td>105</td><td>2</td><td>5</td><td>600.0</td><td>2025-05-25</td><td>Dinner at McDonald's</td></tr><tr><td>106</td><td>1</td><td>1</td><td>800.0</td><td>2025-06-02</td><td>Local grocery</td></tr><tr><td>107</td><td>1</td><td>3</td><td>1900.0</td><td>2025-06-05</td><td>Water bill</td></tr><tr><td>108</td><td>2</td><td>2</td><td>1000.0</td><td>2025-06-08</td><td>Uber ride</td></tr><tr><td>109</td><td>1</td><td>5</td><td>750.0</td><td>2025-06-10</td><td>Zomato lunch</td></tr><tr><td>110</td><td>2</td><td>4</td><td>2200.0</td><td>2025-06-12</td><td>Amazon sale</td></tr></tbody></table></div>"
      ]
     },
     "metadata": {
      "application/vnd.databricks.v1+output": {
       "addedWidgets": {},
       "aggData": [],
       "aggError": "",
       "aggOverflow": false,
       "aggSchema": [],
       "aggSeriesLimitReached": false,
       "aggType": "",
       "arguments": {},
       "columnCustomDisplayInfos": {},
       "data": [
        [
         201,
         1,
         1,
         300.0,
         "2025-06-01",
         "Fruits & Veggies"
        ],
        [
         202,
         1,
         3,
         2200.0,
         "2025-06-02",
         "Electricity Bill"
        ],
        [
         203,
         1,
         5,
         500.0,
         "2025-06-03",
         "Food Panda"
        ],
        [
         204,
         1,
         2,
         200.0,
         "2025-06-04",
         "Bus"
        ],
        [
         205,
         1,
         1,
         700.0,
         "2025-06-05",
         "Monthly groceries"
        ],
        [
         206,
         2,
         4,
         5000.0,
         "2025-06-01",
         "Laptop"
        ],
        [
         207,
         2,
         1,
         1000.0,
         "2025-06-02",
         "Grocery"
        ],
        [
         208,
         2,
         5,
         900.0,
         "2025-06-03",
         "Pizza night"
        ],
        [
         209,
         2,
         2,
         150.0,
         "2025-06-04",
         "Rickshaw"
        ],
        [
         210,
         2,
         3,
         1900.0,
         "2025-06-05",
         "Water Bill"
        ],
        [
         211,
         1,
         4,
         3200.0,
         "2025-06-06",
         "Shopping Spree"
        ],
        [
         212,
         3,
         1,
         450.0,
         "2025-06-01",
         "Mini Mart"
        ],
        [
         213,
         3,
         2,
         100.0,
         "2025-06-02",
         "Metro card"
        ],
        [
         214,
         3,
         3,
         800.0,
         "2025-06-03",
         "Internet Bill"
        ],
        [
         215,
         3,
         4,
         2200.0,
         "2025-06-04",
         "Footwear"
        ],
        [
         216,
         3,
         5,
         600.0,
         "2025-06-05",
         "Burger King"
        ],
        [
         217,
         1,
         1,
         900.0,
         "2025-06-06",
         "Big Basket"
        ],
        [
         218,
         1,
         3,
         2050.0,
         "2025-06-07",
         "Gas Bill"
        ],
        [
         219,
         1,
         5,
         450.0,
         "2025-06-08",
         "Snacks"
        ],
        [
         220,
         1,
         2,
         170.0,
         "2025-06-09",
         "Auto fare"
        ],
        [
         221,
         1,
         1,
         800.0,
         "2025-06-10",
         "Kirana store"
        ],
        [
         222,
         2,
         4,
         2800.0,
         "2025-06-06",
         "Amazon order"
        ],
        [
         223,
         2,
         5,
         1000.0,
         "2025-06-07",
         "BBQ night"
        ],
        [
         224,
         2,
         2,
         180.0,
         "2025-06-08",
         "Bike petrol"
        ],
        [
         225,
         2,
         1,
         1200.0,
         "2025-06-09",
         "Reliance Fresh"
        ],
        [
         226,
         2,
         3,
         2100.0,
         "2025-06-10",
         "Light Bill"
        ],
        [
         227,
         3,
         4,
         2500.0,
         "2025-06-06",
         "Jacket Shopping"
        ],
        [
         228,
         3,
         5,
         700.0,
         "2025-06-07",
         "Chinese food"
        ],
        [
         229,
         3,
         2,
         90.0,
         "2025-06-08",
         "Cab fare"
        ],
        [
         230,
         3,
         1,
         600.0,
         "2025-06-09",
         "Ration"
        ],
        [
         231,
         3,
         3,
         1850.0,
         "2025-06-10",
         "Mobile recharge"
        ],
        [
         232,
         1,
         4,
         4000.0,
         "2025-06-11",
         "TV Purchase"
        ],
        [
         233,
         1,
         1,
         300.0,
         "2025-06-12",
         "Dairy"
        ],
        [
         234,
         1,
         5,
         500.0,
         "2025-06-13",
         "Pastries"
        ],
        [
         235,
         1,
         2,
         200.0,
         "2025-06-14",
         "Bus pass"
        ],
        [
         236,
         1,
         1,
         650.0,
         "2025-06-15",
         "Vegetables"
        ],
        [
         237,
         2,
         4,
         1500.0,
         "2025-06-11",
         "Flipkart"
        ],
        [
         238,
         2,
         1,
         950.0,
         "2025-06-12",
         "Kirana"
        ],
        [
         239,
         2,
         5,
         800.0,
         "2025-06-13",
         "Domino's"
        ],
        [
         240,
         2,
         2,
         130.0,
         "2025-06-14",
         "Cab"
        ],
        [
         241,
         2,
         3,
         1750.0,
         "2025-06-15",
         "Internet"
        ],
        [
         242,
         3,
         4,
         2700.0,
         "2025-06-11",
         "Watch"
        ],
        [
         243,
         3,
         5,
         500.0,
         "2025-06-12",
         "Dinner"
        ],
        [
         244,
         3,
         2,
         80.0,
         "2025-06-13",
         "Bike wash"
        ],
        [
         245,
         3,
         1,
         550.0,
         "2025-06-14",
         "Daily Needs"
        ],
        [
         246,
         3,
         3,
         1950.0,
         "2025-06-15",
         "Phone Bill"
        ],
        [
         247,
         1,
         4,
         5000.0,
         "2025-06-16",
         "AC Repair"
        ],
        [
         248,
         1,
         5,
         750.0,
         "2025-06-17",
         "Food court"
        ],
        [
         249,
         1,
         2,
         180.0,
         "2025-06-18",
         "Cab"
        ],
        [
         250,
         1,
         1,
         850.0,
         "2025-06-19",
         "Groceries"
        ],
        [
         101,
         1,
         1,
         1200.0,
         "2025-05-10",
         "Big Bazaar purchase"
        ],
        [
         102,
         1,
         2,
         450.0,
         "2025-05-12",
         "Bus ticket"
        ],
        [
         103,
         1,
         3,
         2000.0,
         "2025-05-15",
         "Electricity bill"
        ],
        [
         104,
         2,
         4,
         3000.0,
         "2025-05-20",
         "Clothes at Myntra"
        ],
        [
         105,
         2,
         5,
         600.0,
         "2025-05-25",
         "Dinner at McDonald's"
        ],
        [
         106,
         1,
         1,
         800.0,
         "2025-06-02",
         "Local grocery"
        ],
        [
         107,
         1,
         3,
         1900.0,
         "2025-06-05",
         "Water bill"
        ],
        [
         108,
         2,
         2,
         1000.0,
         "2025-06-08",
         "Uber ride"
        ],
        [
         109,
         1,
         5,
         750.0,
         "2025-06-10",
         "Zomato lunch"
        ],
        [
         110,
         2,
         4,
         2200.0,
         "2025-06-12",
         "Amazon sale"
        ]
       ],
       "datasetInfos": [],
       "dbfsResultPath": null,
       "isJsonSchema": true,
       "metadata": {},
       "overflow": false,
       "plotOptions": {
        "customPlotOptions": {},
        "displayType": "table",
        "pivotAggregation": null,
        "pivotColumns": null,
        "xColumns": null,
        "yColumns": null
       },
       "removedWidgets": [],
       "schema": [
        {
         "metadata": "{}",
         "name": "ExpenseID",
         "type": "\"integer\""
        },
        {
         "metadata": "{}",
         "name": "UserID",
         "type": "\"integer\""
        },
        {
         "metadata": "{}",
         "name": "CategoryID",
         "type": "\"integer\""
        },
        {
         "metadata": "{}",
         "name": "Amount",
         "type": "\"double\""
        },
        {
         "metadata": "{}",
         "name": "Date",
         "type": "\"date\""
        },
        {
         "metadata": "{}",
         "name": "Notes",
         "type": "\"string\""
        }
       ],
       "type": "table"
      }
     },
     "output_type": "display_data"
    }
   ],
   "source": [
    "df_combined = df_user.select(\"ExpenseID\", \"UserID\", \"CategoryID\", \"Amount\", \"Date\", \"Notes\").unionByName(df_expenses.select(\"ExpenseID\", \"UserID\", \"CategoryID\", \"Amount\", \"Date\", \"Notes\"))\n",
    "\n",
    "df_combined.display()"
   ]
  },
  {
   "cell_type": "code",
   "execution_count": 0,
   "metadata": {
    "application/vnd.databricks.v1+cell": {
     "cellMetadata": {
      "byteLimit": 2048000,
      "rowLimit": 10000
     },
     "inputWidgets": {},
     "nuid": "88c88379-daaf-4bfa-b6d5-5fe53eae39a9",
     "showTitle": false,
     "tableResultSettingsMap": {},
     "title": ""
    }
   },
   "outputs": [
    {
     "output_type": "display_data",
     "data": {
      "text/html": [
       "<style scoped>\n",
       "  .table-result-container {\n",
       "    max-height: 300px;\n",
       "    overflow: auto;\n",
       "  }\n",
       "  table, th, td {\n",
       "    border: 1px solid black;\n",
       "    border-collapse: collapse;\n",
       "  }\n",
       "  th, td {\n",
       "    padding: 5px;\n",
       "  }\n",
       "  th {\n",
       "    text-align: left;\n",
       "  }\n",
       "</style><div class='table-result-container'><table class='table-result'><thead style='background-color: white'><tr><th>ExpenseID</th><th>UserID</th><th>CategoryID</th><th>Amount</th><th>Date</th><th>Notes</th></tr></thead><tbody><tr><td>201</td><td>1</td><td>1</td><td>300.0</td><td>2025-06-01</td><td>Fruits & Veggies</td></tr><tr><td>202</td><td>1</td><td>3</td><td>2200.0</td><td>2025-06-02</td><td>Electricity Bill</td></tr><tr><td>203</td><td>1</td><td>5</td><td>500.0</td><td>2025-06-03</td><td>Food Panda</td></tr><tr><td>204</td><td>1</td><td>2</td><td>200.0</td><td>2025-06-04</td><td>Bus</td></tr><tr><td>205</td><td>1</td><td>1</td><td>700.0</td><td>2025-06-05</td><td>Monthly groceries</td></tr><tr><td>206</td><td>2</td><td>4</td><td>5000.0</td><td>2025-06-01</td><td>Laptop</td></tr><tr><td>207</td><td>2</td><td>1</td><td>1000.0</td><td>2025-06-02</td><td>Grocery</td></tr><tr><td>208</td><td>2</td><td>5</td><td>900.0</td><td>2025-06-03</td><td>Pizza night</td></tr><tr><td>209</td><td>2</td><td>2</td><td>150.0</td><td>2025-06-04</td><td>Rickshaw</td></tr><tr><td>210</td><td>2</td><td>3</td><td>1900.0</td><td>2025-06-05</td><td>Water Bill</td></tr><tr><td>211</td><td>1</td><td>4</td><td>3200.0</td><td>2025-06-06</td><td>Shopping Spree</td></tr><tr><td>212</td><td>3</td><td>1</td><td>450.0</td><td>2025-06-01</td><td>Mini Mart</td></tr><tr><td>213</td><td>3</td><td>2</td><td>100.0</td><td>2025-06-02</td><td>Metro card</td></tr><tr><td>214</td><td>3</td><td>3</td><td>800.0</td><td>2025-06-03</td><td>Internet Bill</td></tr><tr><td>215</td><td>3</td><td>4</td><td>2200.0</td><td>2025-06-04</td><td>Footwear</td></tr><tr><td>216</td><td>3</td><td>5</td><td>600.0</td><td>2025-06-05</td><td>Burger King</td></tr><tr><td>217</td><td>1</td><td>1</td><td>900.0</td><td>2025-06-06</td><td>Big Basket</td></tr><tr><td>218</td><td>1</td><td>3</td><td>2050.0</td><td>2025-06-07</td><td>Gas Bill</td></tr><tr><td>219</td><td>1</td><td>5</td><td>450.0</td><td>2025-06-08</td><td>Snacks</td></tr><tr><td>220</td><td>1</td><td>2</td><td>170.0</td><td>2025-06-09</td><td>Auto fare</td></tr><tr><td>221</td><td>1</td><td>1</td><td>800.0</td><td>2025-06-10</td><td>Kirana store</td></tr><tr><td>222</td><td>2</td><td>4</td><td>2800.0</td><td>2025-06-06</td><td>Amazon order</td></tr><tr><td>223</td><td>2</td><td>5</td><td>1000.0</td><td>2025-06-07</td><td>BBQ night</td></tr><tr><td>224</td><td>2</td><td>2</td><td>180.0</td><td>2025-06-08</td><td>Bike petrol</td></tr><tr><td>225</td><td>2</td><td>1</td><td>1200.0</td><td>2025-06-09</td><td>Reliance Fresh</td></tr><tr><td>226</td><td>2</td><td>3</td><td>2100.0</td><td>2025-06-10</td><td>Light Bill</td></tr><tr><td>227</td><td>3</td><td>4</td><td>2500.0</td><td>2025-06-06</td><td>Jacket Shopping</td></tr><tr><td>228</td><td>3</td><td>5</td><td>700.0</td><td>2025-06-07</td><td>Chinese food</td></tr><tr><td>229</td><td>3</td><td>2</td><td>90.0</td><td>2025-06-08</td><td>Cab fare</td></tr><tr><td>230</td><td>3</td><td>1</td><td>600.0</td><td>2025-06-09</td><td>Ration</td></tr><tr><td>231</td><td>3</td><td>3</td><td>1850.0</td><td>2025-06-10</td><td>Mobile recharge</td></tr><tr><td>232</td><td>1</td><td>4</td><td>4000.0</td><td>2025-06-11</td><td>TV Purchase</td></tr><tr><td>233</td><td>1</td><td>1</td><td>300.0</td><td>2025-06-12</td><td>Dairy</td></tr><tr><td>234</td><td>1</td><td>5</td><td>500.0</td><td>2025-06-13</td><td>Pastries</td></tr><tr><td>235</td><td>1</td><td>2</td><td>200.0</td><td>2025-06-14</td><td>Bus pass</td></tr><tr><td>236</td><td>1</td><td>1</td><td>650.0</td><td>2025-06-15</td><td>Vegetables</td></tr><tr><td>237</td><td>2</td><td>4</td><td>1500.0</td><td>2025-06-11</td><td>Flipkart</td></tr><tr><td>238</td><td>2</td><td>1</td><td>950.0</td><td>2025-06-12</td><td>Kirana</td></tr><tr><td>239</td><td>2</td><td>5</td><td>800.0</td><td>2025-06-13</td><td>Domino's</td></tr><tr><td>240</td><td>2</td><td>2</td><td>130.0</td><td>2025-06-14</td><td>Cab</td></tr><tr><td>241</td><td>2</td><td>3</td><td>1750.0</td><td>2025-06-15</td><td>Internet</td></tr><tr><td>242</td><td>3</td><td>4</td><td>2700.0</td><td>2025-06-11</td><td>Watch</td></tr><tr><td>243</td><td>3</td><td>5</td><td>500.0</td><td>2025-06-12</td><td>Dinner</td></tr><tr><td>244</td><td>3</td><td>2</td><td>80.0</td><td>2025-06-13</td><td>Bike wash</td></tr><tr><td>245</td><td>3</td><td>1</td><td>550.0</td><td>2025-06-14</td><td>Daily Needs</td></tr><tr><td>246</td><td>3</td><td>3</td><td>1950.0</td><td>2025-06-15</td><td>Phone Bill</td></tr><tr><td>247</td><td>1</td><td>4</td><td>5000.0</td><td>2025-06-16</td><td>AC Repair</td></tr><tr><td>248</td><td>1</td><td>5</td><td>750.0</td><td>2025-06-17</td><td>Food court</td></tr><tr><td>249</td><td>1</td><td>2</td><td>180.0</td><td>2025-06-18</td><td>Cab</td></tr><tr><td>250</td><td>1</td><td>1</td><td>850.0</td><td>2025-06-19</td><td>Groceries</td></tr><tr><td>101</td><td>1</td><td>1</td><td>1200.0</td><td>2025-05-10</td><td>Big Bazaar purchase</td></tr><tr><td>102</td><td>1</td><td>2</td><td>450.0</td><td>2025-05-12</td><td>Bus ticket</td></tr><tr><td>103</td><td>1</td><td>3</td><td>2000.0</td><td>2025-05-15</td><td>Electricity bill</td></tr><tr><td>104</td><td>2</td><td>4</td><td>3000.0</td><td>2025-05-20</td><td>Clothes at Myntra</td></tr><tr><td>105</td><td>2</td><td>5</td><td>600.0</td><td>2025-05-25</td><td>Dinner at McDonald's</td></tr><tr><td>106</td><td>1</td><td>1</td><td>800.0</td><td>2025-06-02</td><td>Local grocery</td></tr><tr><td>107</td><td>1</td><td>3</td><td>1900.0</td><td>2025-06-05</td><td>Water bill</td></tr><tr><td>108</td><td>2</td><td>2</td><td>1000.0</td><td>2025-06-08</td><td>Uber ride</td></tr><tr><td>109</td><td>1</td><td>5</td><td>750.0</td><td>2025-06-10</td><td>Zomato lunch</td></tr><tr><td>110</td><td>2</td><td>4</td><td>2200.0</td><td>2025-06-12</td><td>Amazon sale</td></tr></tbody></table></div>"
      ]
     },
     "metadata": {
      "application/vnd.databricks.v1+output": {
       "addedWidgets": {},
       "aggData": [],
       "aggError": "",
       "aggOverflow": false,
       "aggSchema": [],
       "aggSeriesLimitReached": false,
       "aggType": "",
       "arguments": {},
       "columnCustomDisplayInfos": {},
       "data": [
        [
         201,
         1,
         1,
         300.0,
         "2025-06-01",
         "Fruits & Veggies"
        ],
        [
         202,
         1,
         3,
         2200.0,
         "2025-06-02",
         "Electricity Bill"
        ],
        [
         203,
         1,
         5,
         500.0,
         "2025-06-03",
         "Food Panda"
        ],
        [
         204,
         1,
         2,
         200.0,
         "2025-06-04",
         "Bus"
        ],
        [
         205,
         1,
         1,
         700.0,
         "2025-06-05",
         "Monthly groceries"
        ],
        [
         206,
         2,
         4,
         5000.0,
         "2025-06-01",
         "Laptop"
        ],
        [
         207,
         2,
         1,
         1000.0,
         "2025-06-02",
         "Grocery"
        ],
        [
         208,
         2,
         5,
         900.0,
         "2025-06-03",
         "Pizza night"
        ],
        [
         209,
         2,
         2,
         150.0,
         "2025-06-04",
         "Rickshaw"
        ],
        [
         210,
         2,
         3,
         1900.0,
         "2025-06-05",
         "Water Bill"
        ],
        [
         211,
         1,
         4,
         3200.0,
         "2025-06-06",
         "Shopping Spree"
        ],
        [
         212,
         3,
         1,
         450.0,
         "2025-06-01",
         "Mini Mart"
        ],
        [
         213,
         3,
         2,
         100.0,
         "2025-06-02",
         "Metro card"
        ],
        [
         214,
         3,
         3,
         800.0,
         "2025-06-03",
         "Internet Bill"
        ],
        [
         215,
         3,
         4,
         2200.0,
         "2025-06-04",
         "Footwear"
        ],
        [
         216,
         3,
         5,
         600.0,
         "2025-06-05",
         "Burger King"
        ],
        [
         217,
         1,
         1,
         900.0,
         "2025-06-06",
         "Big Basket"
        ],
        [
         218,
         1,
         3,
         2050.0,
         "2025-06-07",
         "Gas Bill"
        ],
        [
         219,
         1,
         5,
         450.0,
         "2025-06-08",
         "Snacks"
        ],
        [
         220,
         1,
         2,
         170.0,
         "2025-06-09",
         "Auto fare"
        ],
        [
         221,
         1,
         1,
         800.0,
         "2025-06-10",
         "Kirana store"
        ],
        [
         222,
         2,
         4,
         2800.0,
         "2025-06-06",
         "Amazon order"
        ],
        [
         223,
         2,
         5,
         1000.0,
         "2025-06-07",
         "BBQ night"
        ],
        [
         224,
         2,
         2,
         180.0,
         "2025-06-08",
         "Bike petrol"
        ],
        [
         225,
         2,
         1,
         1200.0,
         "2025-06-09",
         "Reliance Fresh"
        ],
        [
         226,
         2,
         3,
         2100.0,
         "2025-06-10",
         "Light Bill"
        ],
        [
         227,
         3,
         4,
         2500.0,
         "2025-06-06",
         "Jacket Shopping"
        ],
        [
         228,
         3,
         5,
         700.0,
         "2025-06-07",
         "Chinese food"
        ],
        [
         229,
         3,
         2,
         90.0,
         "2025-06-08",
         "Cab fare"
        ],
        [
         230,
         3,
         1,
         600.0,
         "2025-06-09",
         "Ration"
        ],
        [
         231,
         3,
         3,
         1850.0,
         "2025-06-10",
         "Mobile recharge"
        ],
        [
         232,
         1,
         4,
         4000.0,
         "2025-06-11",
         "TV Purchase"
        ],
        [
         233,
         1,
         1,
         300.0,
         "2025-06-12",
         "Dairy"
        ],
        [
         234,
         1,
         5,
         500.0,
         "2025-06-13",
         "Pastries"
        ],
        [
         235,
         1,
         2,
         200.0,
         "2025-06-14",
         "Bus pass"
        ],
        [
         236,
         1,
         1,
         650.0,
         "2025-06-15",
         "Vegetables"
        ],
        [
         237,
         2,
         4,
         1500.0,
         "2025-06-11",
         "Flipkart"
        ],
        [
         238,
         2,
         1,
         950.0,
         "2025-06-12",
         "Kirana"
        ],
        [
         239,
         2,
         5,
         800.0,
         "2025-06-13",
         "Domino's"
        ],
        [
         240,
         2,
         2,
         130.0,
         "2025-06-14",
         "Cab"
        ],
        [
         241,
         2,
         3,
         1750.0,
         "2025-06-15",
         "Internet"
        ],
        [
         242,
         3,
         4,
         2700.0,
         "2025-06-11",
         "Watch"
        ],
        [
         243,
         3,
         5,
         500.0,
         "2025-06-12",
         "Dinner"
        ],
        [
         244,
         3,
         2,
         80.0,
         "2025-06-13",
         "Bike wash"
        ],
        [
         245,
         3,
         1,
         550.0,
         "2025-06-14",
         "Daily Needs"
        ],
        [
         246,
         3,
         3,
         1950.0,
         "2025-06-15",
         "Phone Bill"
        ],
        [
         247,
         1,
         4,
         5000.0,
         "2025-06-16",
         "AC Repair"
        ],
        [
         248,
         1,
         5,
         750.0,
         "2025-06-17",
         "Food court"
        ],
        [
         249,
         1,
         2,
         180.0,
         "2025-06-18",
         "Cab"
        ],
        [
         250,
         1,
         1,
         850.0,
         "2025-06-19",
         "Groceries"
        ],
        [
         101,
         1,
         1,
         1200.0,
         "2025-05-10",
         "Big Bazaar purchase"
        ],
        [
         102,
         1,
         2,
         450.0,
         "2025-05-12",
         "Bus ticket"
        ],
        [
         103,
         1,
         3,
         2000.0,
         "2025-05-15",
         "Electricity bill"
        ],
        [
         104,
         2,
         4,
         3000.0,
         "2025-05-20",
         "Clothes at Myntra"
        ],
        [
         105,
         2,
         5,
         600.0,
         "2025-05-25",
         "Dinner at McDonald's"
        ],
        [
         106,
         1,
         1,
         800.0,
         "2025-06-02",
         "Local grocery"
        ],
        [
         107,
         1,
         3,
         1900.0,
         "2025-06-05",
         "Water bill"
        ],
        [
         108,
         2,
         2,
         1000.0,
         "2025-06-08",
         "Uber ride"
        ],
        [
         109,
         1,
         5,
         750.0,
         "2025-06-10",
         "Zomato lunch"
        ],
        [
         110,
         2,
         4,
         2200.0,
         "2025-06-12",
         "Amazon sale"
        ]
       ],
       "datasetInfos": [],
       "dbfsResultPath": null,
       "isJsonSchema": true,
       "metadata": {},
       "overflow": false,
       "plotOptions": {
        "customPlotOptions": {},
        "displayType": "table",
        "pivotAggregation": null,
        "pivotColumns": null,
        "xColumns": null,
        "yColumns": null
       },
       "removedWidgets": [],
       "schema": [
        {
         "metadata": "{}",
         "name": "ExpenseID",
         "type": "\"integer\""
        },
        {
         "metadata": "{}",
         "name": "UserID",
         "type": "\"integer\""
        },
        {
         "metadata": "{}",
         "name": "CategoryID",
         "type": "\"integer\""
        },
        {
         "metadata": "{}",
         "name": "Amount",
         "type": "\"double\""
        },
        {
         "metadata": "{}",
         "name": "Date",
         "type": "\"date\""
        },
        {
         "metadata": "{}",
         "name": "Notes",
         "type": "\"string\""
        }
       ],
       "type": "table"
      }
     },
     "output_type": "display_data"
    }
   ],
   "source": [
    "df_combined.write.format(\"delta\").mode(\"overwrite\").saveAsTable(\"expenses_table\")\n",
    "\n",
    "display(spark.sql(\"SELECT * FROM expenses_table\"))"
   ]
  },
  {
   "cell_type": "markdown",
   "metadata": {
    "application/vnd.databricks.v1+cell": {
     "cellMetadata": {
      "byteLimit": 2048000,
      "rowLimit": 10000
     },
     "inputWidgets": {},
     "nuid": "c98b4b6c-c3f8-42c0-b012-575805fdb0f5",
     "showTitle": false,
     "tableResultSettingsMap": {},
     "title": ""
    }
   },
   "source": [
    "Create a summary table with monthly spend, savings, and alerts"
   ]
  },
  {
   "cell_type": "code",
   "execution_count": 0,
   "metadata": {
    "application/vnd.databricks.v1+cell": {
     "cellMetadata": {
      "byteLimit": 2048000,
      "rowLimit": 10000
     },
     "inputWidgets": {},
     "nuid": "4b4c2e92-e822-419e-b4ac-54e8f120dd26",
     "showTitle": false,
     "tableResultSettingsMap": {},
     "title": ""
    }
   },
   "outputs": [
    {
     "output_type": "stream",
     "name": "stdout",
     "output_type": "stream",
     "text": [
      "+---------+------+----------+------+----------+-----------------+----+-----+\n|ExpenseID|UserID|CategoryID|Amount|      Date|            Notes|Year|Month|\n+---------+------+----------+------+----------+-----------------+----+-----+\n|      201|     1|         1| 300.0|2025-06-01| Fruits & Veggies|2025|    6|\n|      202|     1|         3|2200.0|2025-06-02| Electricity Bill|2025|    6|\n|      203|     1|         5| 500.0|2025-06-03|       Food Panda|2025|    6|\n|      204|     1|         2| 200.0|2025-06-04|              Bus|2025|    6|\n|      205|     1|         1| 700.0|2025-06-05|Monthly groceries|2025|    6|\n|      206|     2|         4|5000.0|2025-06-01|           Laptop|2025|    6|\n|      207|     2|         1|1000.0|2025-06-02|          Grocery|2025|    6|\n|      208|     2|         5| 900.0|2025-06-03|      Pizza night|2025|    6|\n|      209|     2|         2| 150.0|2025-06-04|         Rickshaw|2025|    6|\n|      210|     2|         3|1900.0|2025-06-05|       Water Bill|2025|    6|\n|      211|     1|         4|3200.0|2025-06-06|   Shopping Spree|2025|    6|\n|      212|     3|         1| 450.0|2025-06-01|        Mini Mart|2025|    6|\n|      213|     3|         2| 100.0|2025-06-02|       Metro card|2025|    6|\n|      214|     3|         3| 800.0|2025-06-03|    Internet Bill|2025|    6|\n|      215|     3|         4|2200.0|2025-06-04|         Footwear|2025|    6|\n|      216|     3|         5| 600.0|2025-06-05|      Burger King|2025|    6|\n|      217|     1|         1| 900.0|2025-06-06|       Big Basket|2025|    6|\n|      218|     1|         3|2050.0|2025-06-07|         Gas Bill|2025|    6|\n|      219|     1|         5| 450.0|2025-06-08|           Snacks|2025|    6|\n|      220|     1|         2| 170.0|2025-06-09|        Auto fare|2025|    6|\n+---------+------+----------+------+----------+-----------------+----+-----+\nonly showing top 20 rows\n\n"
     ]
    }
   ],
   "source": [
    "df = spark.read.table(\"expenses_table\")\n",
    "df = df.withColumn(\"Year\", year(\"Date\")).withColumn(\"Month\", month(\"Date\"))\n",
    "\n",
    "df.show()"
   ]
  },
  {
   "cell_type": "code",
   "execution_count": 0,
   "metadata": {
    "application/vnd.databricks.v1+cell": {
     "cellMetadata": {
      "byteLimit": 2048000,
      "rowLimit": 10000
     },
     "inputWidgets": {},
     "nuid": "bfa254c2-336d-4e6d-afca-59d753bceac4",
     "showTitle": false,
     "tableResultSettingsMap": {},
     "title": ""
    }
   },
   "outputs": [
    {
     "output_type": "stream",
     "name": "stdout",
     "output_type": "stream",
     "text": [
      "+------+----+-----+----------+\n|UserID|Year|Month|TotalSpend|\n+------+----+-----+----------+\n|     2|2025|    6|   24560.0|\n|     3|2025|    6|   15670.0|\n|     1|2025|    6|   27350.0|\n|     1|2025|    5|    3650.0|\n|     2|2025|    5|    3600.0|\n+------+----+-----+----------+\n\n"
     ]
    }
   ],
   "source": [
    "summary_df = df.groupBy(\"UserID\", \"Year\", \"Month\").agg(round(sum(\"Amount\"), 2).alias(\"TotalSpend\"))\n",
    "\n",
    "summary_df.show()"
   ]
  },
  {
   "cell_type": "code",
   "execution_count": 0,
   "metadata": {
    "application/vnd.databricks.v1+cell": {
     "cellMetadata": {
      "byteLimit": 2048000,
      "rowLimit": 10000
     },
     "inputWidgets": {},
     "nuid": "a88e362d-3e52-48ff-9714-c0bccbe75a53",
     "showTitle": false,
     "tableResultSettingsMap": {},
     "title": ""
    }
   },
   "outputs": [
    {
     "output_type": "stream",
     "name": "stdout",
     "output_type": "stream",
     "text": [
      "+------+----+-----+----------+----------------+\n|UserID|Year|Month|TotalSpend|EstimatedSavings|\n+------+----+-----+----------+----------------+\n|     2|2025|    6|   24560.0|          7368.0|\n|     3|2025|    6|   15670.0|          4701.0|\n|     1|2025|    6|   27350.0|          8205.0|\n|     1|2025|    5|    3650.0|          1095.0|\n|     2|2025|    5|    3600.0|          1080.0|\n+------+----+-----+----------+----------------+\n\n"
     ]
    }
   ],
   "source": [
    "summary_df = summary_df.withColumn(\"EstimatedSavings\", round(summary_df[\"TotalSpend\"] * 0.30, 2))\n",
    "\n",
    "summary_df.show()"
   ]
  },
  {
   "cell_type": "code",
   "execution_count": 0,
   "metadata": {
    "application/vnd.databricks.v1+cell": {
     "cellMetadata": {
      "byteLimit": 2048000,
      "rowLimit": 10000
     },
     "inputWidgets": {},
     "nuid": "106ec381-9cea-4dcf-bf27-4613adb23c47",
     "showTitle": false,
     "tableResultSettingsMap": {},
     "title": ""
    }
   },
   "outputs": [
    {
     "output_type": "display_data",
     "data": {
      "text/html": [
       "<style scoped>\n",
       "  .table-result-container {\n",
       "    max-height: 300px;\n",
       "    overflow: auto;\n",
       "  }\n",
       "  table, th, td {\n",
       "    border: 1px solid black;\n",
       "    border-collapse: collapse;\n",
       "  }\n",
       "  th, td {\n",
       "    padding: 5px;\n",
       "  }\n",
       "  th {\n",
       "    text-align: left;\n",
       "  }\n",
       "</style><div class='table-result-container'><table class='table-result'><thead style='background-color: white'><tr><th>UserID</th><th>Year</th><th>Month</th><th>TotalSpend</th><th>EstimatedSavings</th></tr></thead><tbody><tr><td>2</td><td>2025</td><td>6</td><td>24560.0</td><td>7368.0</td></tr><tr><td>1</td><td>2025</td><td>6</td><td>27350.0</td><td>8205.0</td></tr></tbody></table></div>"
      ]
     },
     "metadata": {
      "application/vnd.databricks.v1+output": {
       "addedWidgets": {},
       "aggData": [],
       "aggError": "",
       "aggOverflow": false,
       "aggSchema": [],
       "aggSeriesLimitReached": false,
       "aggType": "",
       "arguments": {},
       "columnCustomDisplayInfos": {},
       "data": [
        [
         2,
         2025,
         6,
         24560.0,
         7368.0
        ],
        [
         1,
         2025,
         6,
         27350.0,
         8205.0
        ]
       ],
       "datasetInfos": [],
       "dbfsResultPath": null,
       "isJsonSchema": true,
       "metadata": {},
       "overflow": false,
       "plotOptions": {
        "customPlotOptions": {},
        "displayType": "table",
        "pivotAggregation": null,
        "pivotColumns": null,
        "xColumns": null,
        "yColumns": null
       },
       "removedWidgets": [],
       "schema": [
        {
         "metadata": "{}",
         "name": "UserID",
         "type": "\"integer\""
        },
        {
         "metadata": "{}",
         "name": "Year",
         "type": "\"integer\""
        },
        {
         "metadata": "{}",
         "name": "Month",
         "type": "\"integer\""
        },
        {
         "metadata": "{}",
         "name": "TotalSpend",
         "type": "\"double\""
        },
        {
         "metadata": "{}",
         "name": "EstimatedSavings",
         "type": "\"double\""
        }
       ],
       "type": "table"
      }
     },
     "output_type": "display_data"
    }
   ],
   "source": [
    "alerts_df = summary_df.filter(col(\"TotalSpend\") > 20000)\n",
    "\n",
    "display(alerts_df)\n",
    "\n",
    "alerts_df.select(\"UserID\", \"Year\", \"Month\", \"TotalSpend\").toPandas().to_csv(\"monthly_alerts.csv\", index=False)"
   ]
  },
  {
   "cell_type": "code",
   "execution_count": 0,
   "metadata": {
    "application/vnd.databricks.v1+cell": {
     "cellMetadata": {
      "byteLimit": 2048000,
      "rowLimit": 10000
     },
     "inputWidgets": {},
     "nuid": "f0b5140c-8db5-498d-9732-27ec81154a59",
     "showTitle": false,
     "tableResultSettingsMap": {},
     "title": ""
    }
   },
   "outputs": [
    {
     "output_type": "display_data",
     "data": {
      "text/html": [
       "<style scoped>\n",
       "  .table-result-container {\n",
       "    max-height: 300px;\n",
       "    overflow: auto;\n",
       "  }\n",
       "  table, th, td {\n",
       "    border: 1px solid black;\n",
       "    border-collapse: collapse;\n",
       "  }\n",
       "  th, td {\n",
       "    padding: 5px;\n",
       "  }\n",
       "  th {\n",
       "    text-align: left;\n",
       "  }\n",
       "</style><div class='table-result-container'><table class='table-result'><thead style='background-color: white'><tr><th>UserID</th><th>Year</th><th>Month</th><th>TotalSpend</th><th>EstimatedSavings</th></tr></thead><tbody><tr><td>2</td><td>2025</td><td>6</td><td>24560.0</td><td>7368.0</td></tr><tr><td>3</td><td>2025</td><td>6</td><td>15670.0</td><td>4701.0</td></tr><tr><td>1</td><td>2025</td><td>6</td><td>27350.0</td><td>8205.0</td></tr><tr><td>1</td><td>2025</td><td>5</td><td>3650.0</td><td>1095.0</td></tr><tr><td>2</td><td>2025</td><td>5</td><td>3600.0</td><td>1080.0</td></tr></tbody></table></div>"
      ]
     },
     "metadata": {
      "application/vnd.databricks.v1+output": {
       "addedWidgets": {},
       "aggData": [],
       "aggError": "",
       "aggOverflow": false,
       "aggSchema": [],
       "aggSeriesLimitReached": false,
       "aggType": "",
       "arguments": {},
       "columnCustomDisplayInfos": {},
       "data": [
        [
         2,
         2025,
         6,
         24560.0,
         7368.0
        ],
        [
         3,
         2025,
         6,
         15670.0,
         4701.0
        ],
        [
         1,
         2025,
         6,
         27350.0,
         8205.0
        ],
        [
         1,
         2025,
         5,
         3650.0,
         1095.0
        ],
        [
         2,
         2025,
         5,
         3600.0,
         1080.0
        ]
       ],
       "datasetInfos": [],
       "dbfsResultPath": null,
       "isJsonSchema": true,
       "metadata": {},
       "overflow": false,
       "plotOptions": {
        "customPlotOptions": {},
        "displayType": "table",
        "pivotAggregation": null,
        "pivotColumns": null,
        "xColumns": null,
        "yColumns": null
       },
       "removedWidgets": [],
       "schema": [
        {
         "metadata": "{}",
         "name": "UserID",
         "type": "\"integer\""
        },
        {
         "metadata": "{}",
         "name": "Year",
         "type": "\"integer\""
        },
        {
         "metadata": "{}",
         "name": "Month",
         "type": "\"integer\""
        },
        {
         "metadata": "{}",
         "name": "TotalSpend",
         "type": "\"double\""
        },
        {
         "metadata": "{}",
         "name": "EstimatedSavings",
         "type": "\"double\""
        }
       ],
       "type": "table"
      }
     },
     "output_type": "display_data"
    }
   ],
   "source": [
    "summary_df.write.format(\"delta\").mode(\"overwrite\").save(\"file:/Workspace/Shared/final_report\")\n",
    "#summary_df.write.format(\"csv\").mode(\"overwrite\").save(\"file:/Workspace/Shared/final_report.csv\")\n",
    "summary_df.toPandas().to_csv(\"final_report.csv\", index=False)\n",
    "display(summary_df)"
   ]
  },
  {
   "cell_type": "code",
   "execution_count": 0,
   "metadata": {
    "application/vnd.databricks.v1+cell": {
     "cellMetadata": {
      "byteLimit": 2048000,
      "rowLimit": 10000
     },
     "inputWidgets": {},
     "nuid": "4aa82470-b97a-4a9f-980e-5885474303ac",
     "showTitle": false,
     "tableResultSettingsMap": {},
     "title": ""
    }
   },
   "outputs": [],
   "source": []
  }
 ],
 "metadata": {
  "application/vnd.databricks.v1+notebook": {
   "computePreferences": null,
   "dashboards": [],
   "environmentMetadata": {
    "base_environment": "",
    "environment_version": "2"
   },
   "inputWidgetPreferences": null,
   "language": "python",
   "notebookMetadata": {
    "pythonIndentUnit": 4
   },
   "notebookName": "combine_spend_alert",
   "widgets": {}
  },
  "language_info": {
   "name": "python"
  }
 },
 "nbformat": 4,
 "nbformat_minor": 0
}